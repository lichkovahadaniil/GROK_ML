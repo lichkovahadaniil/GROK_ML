{
 "cells": [
  {
   "cell_type": "markdown",
   "id": "dca250f0",
   "metadata": {},
   "source": [
    "# <img src=\".././photo/condition18.png\" alt=\"photo\" width=\"672\" height=\"650\">"
   ]
  },
  {
   "cell_type": "markdown",
   "id": "5cbcf071",
   "metadata": {},
   "source": [
    "# <img src=\".././photo/s1.png\" alt=\"photo\" width=\"672\" height=\"200\">\n"
   ]
  },
  {
   "cell_type": "markdown",
   "id": "b79209be",
   "metadata": {},
   "source": [
    "# <img src=\".././photo/s2.png\" alt=\"photo\" width=\"672\" height=\"600\">"
   ]
  },
  {
   "cell_type": "code",
   "execution_count": 1,
   "id": "472c826e",
   "metadata": {},
   "outputs": [
    {
     "data": {
      "text/plain": [
       "6.642857142857143"
      ]
     },
     "execution_count": 1,
     "metadata": {},
     "output_type": "execute_result"
    }
   ],
   "source": [
    "93/14"
   ]
  },
  {
   "cell_type": "code",
   "execution_count": 5,
   "id": "04af1dd0",
   "metadata": {},
   "outputs": [
    {
     "data": {
      "text/plain": [
       "[10.9157894736842]"
      ]
     },
     "execution_count": 5,
     "metadata": {},
     "output_type": "execute_result"
    }
   ],
   "source": [
    "import sympy as sp\n",
    "x = sp.symbols('x')\n",
    "eq = sp.Eq(-10/16 * (2 * x - 2 * 11) - 10/6 * (2 * x - 2 * 10.6 + 2*x - 2 * 11.2), 0)\n",
    "slv = sp.solve(eq, x)\n",
    "slv"
   ]
  },
  {
   "cell_type": "code",
   "execution_count": null,
   "id": "78d368f3",
   "metadata": {},
   "outputs": [
    {
     "data": {
      "text/plain": [
       "49"
      ]
     },
     "execution_count": 9,
     "metadata": {},
     "output_type": "execute_result"
    }
   ],
   "source": []
  },
  {
   "cell_type": "code",
   "execution_count": null,
   "id": "63674ca0",
   "metadata": {},
   "outputs": [],
   "source": []
  }
 ],
 "metadata": {
  "kernelspec": {
   "display_name": "base",
   "language": "python",
   "name": "python3"
  },
  "language_info": {
   "codemirror_mode": {
    "name": "ipython",
    "version": 3
   },
   "file_extension": ".py",
   "mimetype": "text/x-python",
   "name": "python",
   "nbconvert_exporter": "python",
   "pygments_lexer": "ipython3",
   "version": "3.12.4"
  }
 },
 "nbformat": 4,
 "nbformat_minor": 5
}
