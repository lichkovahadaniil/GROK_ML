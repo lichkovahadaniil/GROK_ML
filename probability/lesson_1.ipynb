{
 "cells": [
  {
   "cell_type": "markdown",
   "id": "b6a2810b",
   "metadata": {},
   "source": [
    "# <img src=\".././photo/condition17.png\" alt=\"photo\" width=\"672\" height=\"200\">"
   ]
  },
  {
   "cell_type": "code",
   "execution_count": 1,
   "id": "40db31af",
   "metadata": {},
   "outputs": [
    {
     "name": "stdout",
     "output_type": "stream",
     "text": [
      "[-0.2        -0.00105263 -0.00285714 -0.2        -0.00066667]\n"
     ]
    }
   ],
   "source": [
    "import numpy as np\n",
    "\n",
    "x = np.array([1, 190, 70, 1, 300])\n",
    "y = -1\n",
    "M = 1\n",
    "w = M / (x * y)\n",
    "w /= len(x) # normalization\n",
    "print(w)"
   ]
  },
  {
   "cell_type": "code",
   "execution_count": 2,
   "id": "80badcfd",
   "metadata": {},
   "outputs": [
    {
     "name": "stdout",
     "output_type": "stream",
     "text": [
      "1.0\n"
     ]
    }
   ],
   "source": [
    "print(np.dot(w, x) * y)"
   ]
  },
  {
   "cell_type": "code",
   "execution_count": null,
   "id": "28d6a1d0",
   "metadata": {},
   "outputs": [],
   "source": []
  }
 ],
 "metadata": {
  "kernelspec": {
   "display_name": "base",
   "language": "python",
   "name": "python3"
  },
  "language_info": {
   "codemirror_mode": {
    "name": "ipython",
    "version": 3
   },
   "file_extension": ".py",
   "mimetype": "text/x-python",
   "name": "python",
   "nbconvert_exporter": "python",
   "pygments_lexer": "ipython3",
   "version": "3.12.4"
  }
 },
 "nbformat": 4,
 "nbformat_minor": 5
}
