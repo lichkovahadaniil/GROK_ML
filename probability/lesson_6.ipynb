{
 "cells": [
  {
   "cell_type": "code",
   "execution_count": 6,
   "id": "79f5c5c0",
   "metadata": {},
   "outputs": [],
   "source": [
    "import numpy as np\n",
    "\n",
    "np.random.seed(0)\n",
    "\n",
    "# исходные параметры распределений двух классов\n",
    "mean1 = np.array([1, -2, 0])\n",
    "mean2 = np.array([1, 3, 1])\n",
    "r = 0.7\n",
    "D = 2.0\n",
    "V = [[D, D * r, D*r*r], [D*r, D, D*r], [D*r*r, D*r, D]]\n",
    "\n",
    "# моделирование обучающей выборки\n",
    "N = 1000\n",
    "x1 = np.random.multivariate_normal(mean1, V, N).T\n",
    "x2 = np.random.multivariate_normal(mean2, V, N).T\n",
    "\n",
    "x_train = np.hstack([x1, x2]).T\n",
    "y_train = np.hstack([np.zeros(N), np.ones(N)])\n",
    "\n",
    "# здесь вычисляйте векторы математических ожиданий и ковариационную матрицу по выборке x1, x2\n",
    "\n",
    "# параметры для линейного дискриминанта Фишера\n",
    "Py1, L1 = 0.5, 1  # вероятности появления классов\n",
    "Py2, L2 = 1 - Py1, 1  # и величины штрафов неверной классификации\n",
    "\n",
    "mathexp1 = np.mean(x1.T, axis=0)\n",
    "mathexp2 = np.mean(x2.T, axis=0)\n",
    "\n",
    "lm = 0.01\n",
    "\n",
    "a = np.hstack([(x1.T - mathexp1).T, (x2.T - mathexp2).T]) # all points in the 3-dim space\n",
    "Cov = np.array([[np.dot(a[0], a[0]) / (2 * N), np.dot(a[0], a[1]) / (2 * N), np.dot(a[0], a[2]) / (2 * N)],\n",
    "                [np.dot(a[1], a[0]) / (2 * N), np.dot(a[1], a[1]) / (2 * N), np.dot(a[1], a[2]) / (2 * N)],\n",
    "                [np.dot(a[2], a[0]) / (2 * N), np.dot(a[2], a[1]) / (2 * N), np.dot(a[2], a[2]) / (2 * N)]])\n",
    "\n",
    "alpha1 = np.linalg.inv(Cov) @ mathexp1\n",
    "alpha2 = np.linalg.inv(Cov) @ mathexp2\n",
    "\n",
    "beta1 = np.log(L1 * Py1) - 1/2 * mathexp1.T @ np.linalg.inv(Cov) @ mathexp1\n",
    "beta2 = np.log(L2 * Py2) - 1/2 * mathexp2.T @ np.linalg.inv(Cov) @ mathexp2"
   ]
  },
  {
   "cell_type": "markdown",
   "id": "0360ed0c",
   "metadata": {},
   "source": [
    "x1 - it's:"
   ]
  },
  {
   "cell_type": "code",
   "execution_count": 2,
   "id": "59194f1b",
   "metadata": {},
   "outputs": [
    {
     "name": "stdout",
     "output_type": "stream",
     "text": [
      "[[-0.51854683 -0.6078062  -0.26422764 ...  2.92488998  1.84014685\n",
      "   0.33853516]\n",
      " [-4.83125077 -4.42305407 -3.19174118 ... -0.37562618 -1.94023587\n",
      "  -1.70501758]\n",
      " [-2.09008565 -4.27521254 -1.04804631 ...  1.2582367  -2.12951141\n",
      "   1.07035404]]\n"
     ]
    }
   ],
   "source": [
    "print(x1)"
   ]
  },
  {
   "cell_type": "code",
   "execution_count": 3,
   "id": "c25921da",
   "metadata": {},
   "outputs": [
    {
     "name": "stdout",
     "output_type": "stream",
     "text": [
      "[[1 3]\n",
      " [2 4]]\n"
     ]
    }
   ],
   "source": [
    "a = [[1], [2]]\n",
    "b = [[3], [4]]\n",
    "c = np.hstack([a, b])\n",
    "print(c)"
   ]
  },
  {
   "cell_type": "markdown",
   "id": "e8b05c47",
   "metadata": {},
   "source": [
    "# <img src=\".././photo/condition20.png\" alt=\"photo\" width=\"800\" height=\"800\">"
   ]
  },
  {
   "cell_type": "code",
   "execution_count": 9,
   "id": "6381b993",
   "metadata": {},
   "outputs": [
    {
     "name": "stdout",
     "output_type": "stream",
     "text": [
      "60\n"
     ]
    }
   ],
   "source": [
    "import numpy as np\n",
    "\n",
    "np.random.seed(0)\n",
    "\n",
    "# исходные параметры распределений двух классов\n",
    "mean1 = np.array([1, -2])\n",
    "mean2 = np.array([-3, -1])\n",
    "mean3 = np.array([1, 2])\n",
    "\n",
    "r = 0.5\n",
    "D = 1.0\n",
    "V = [[D, D * r], [D*r, D]]\n",
    "\n",
    "# моделирование обучающей выборки\n",
    "N = 1000\n",
    "x1 = np.random.multivariate_normal(mean1, V, N).T\n",
    "x2 = np.random.multivariate_normal(mean2, V, N).T\n",
    "x3 = np.random.multivariate_normal(mean3, V, N).T\n",
    "\n",
    "x_train = np.hstack([x1, x2, x3]).T\n",
    "y_train = np.hstack([np.zeros(N), np.ones(N), np.ones(N) * 2])\n",
    "\n",
    "# здесь вычисляйте векторы математических ожиданий и ковариационную матрицу по выборке x1, x2, x3\n",
    "me1 = np.mean(x1.T, axis=0)\n",
    "me2 = np.mean(x2.T, axis=0)\n",
    "me3 = np.mean(x3.T, axis=0)\n",
    "\n",
    "a = np.hstack([(x1.T - me1).T, (x2.T - me2).T, (x3.T - me3).T])\n",
    "Cov = np.array([[np.dot(a[0], a[0]) / (3 * N), np.dot(a[0], a[1]) / (3 * N)],\n",
    "                [np.dot(a[1], a[0]) / (3 * N), np.dot(a[1], a[1]) / (3 * N)]])\n",
    "\n",
    "# параметры для линейного дискриминанта Фишера\n",
    "Py1, Py2, Py3 = 0.2, 0.4, 0.4\n",
    "L1, L2, L3 = 1, 1, 1\n",
    "\n",
    "# здесь продолжайте программу\n",
    "alpha = lambda cv, me: np.linalg.inv(cv) @ me\n",
    "beta = lambda lm, py, me, cv: np.log(lm * py) - 1/2 * me @ np.linalg.inv(cv) @ me\n",
    "a = lambda x, a, b: x.T @ a + b\n",
    "\n",
    "classes = [0, 1, 2]\n",
    "predict = np.array([])\n",
    "for x in x_train:\n",
    "    ind = np.argmax([a(x, alpha(Cov, me1), beta(L1, Py1, me1, Cov)), a(x, alpha(Cov, me2), beta(L2, Py2, me2, Cov)), a(x, alpha(Cov, me3), beta(L3, Py3, me3, Cov))])\n",
    "    predict = np.append(predict, classes[ind])\n",
    "\n",
    "Q = sum(predict != y_train)\n",
    "print(Q)\n"
   ]
  },
  {
   "cell_type": "code",
   "execution_count": 8,
   "id": "144eeef8",
   "metadata": {},
   "outputs": [
    {
     "name": "stdout",
     "output_type": "stream",
     "text": [
      "(2, 1000)\n"
     ]
    }
   ],
   "source": [
    "print(x1.shape)"
   ]
  },
  {
   "cell_type": "markdown",
   "id": "a9618eb7",
   "metadata": {},
   "source": [
    "# <img src=\".././photo/condition21.png\" alt=\"photo\" width=\"700\" height=\"500\">"
   ]
  },
  {
   "cell_type": "code",
   "execution_count": 10,
   "id": "c06c25c6",
   "metadata": {},
   "outputs": [
    {
     "name": "stdout",
     "output_type": "stream",
     "text": [
      "189\n"
     ]
    }
   ],
   "source": [
    "import numpy as np\n",
    "\n",
    "np.random.seed(0)\n",
    "\n",
    "# исходные параметры распределений трех классов\n",
    "r1 = 0.7\n",
    "D1 = 3.0\n",
    "mean1 = [1, -2]\n",
    "V1 = [[D1, D1 * r1], [D1 * r1, D1]]\n",
    "\n",
    "r2 = 0.5\n",
    "D2 = 2.0\n",
    "mean2 = [-3, -1]\n",
    "V2 = [[D2, D2 * r2], [D2 * r2, D2]]\n",
    "\n",
    "r3 = 0.3\n",
    "D3 = 1.0\n",
    "mean3 = [1, 2]\n",
    "V3 = [[D3, D3 * r3], [D3 * r3, D3]]\n",
    "\n",
    "# моделирование обучающей выборки\n",
    "N = 1000\n",
    "x1 = np.random.multivariate_normal(mean1, V1, N).T\n",
    "x2 = np.random.multivariate_normal(mean2, V2, N).T\n",
    "x3 = np.random.multivariate_normal(mean3, V3, N).T\n",
    "\n",
    "x_train = np.hstack([x1, x2, x3]).T\n",
    "y_train = np.hstack([np.zeros(N), np.ones(N), np.ones(N) * 2])\n",
    "\n",
    "mm1 = np.mean(x1.T, axis=0)\n",
    "mm2 = np.mean(x2.T, axis=0)\n",
    "mm3 = np.mean(x3.T, axis=0)\n",
    "\n",
    "a = (x1.T - mm1).T\n",
    "VV1 = np.array([[np.dot(a[0], a[0]) / N, np.dot(a[0], a[1]) / N],\n",
    "                [np.dot(a[1], a[0]) / N, np.dot(a[1], a[1]) / N]])\n",
    "\n",
    "a = (x2.T - mm2).T\n",
    "VV2 = np.array([[np.dot(a[0], a[0]) / N, np.dot(a[0], a[1]) / N],\n",
    "                [np.dot(a[1], a[0]) / N, np.dot(a[1], a[1]) / N]])\n",
    "\n",
    "a = (x3.T - mm3).T\n",
    "VV3 = np.array([[np.dot(a[0], a[0]) / N, np.dot(a[0], a[1]) / N],\n",
    "                [np.dot(a[1], a[0]) / N, np.dot(a[1], a[1]) / N]])\n",
    "\n",
    "# параметры для гауссовского байесовского классификатора\n",
    "Py1, Py2, Py3 = 0.2, 0.5, 0.3\n",
    "L1, L2, L3 = 1, 1, 1\n",
    "\n",
    "# здесь продолжайте программу\n",
    "a = lambda x, lm, py, me, cov: np.log(lm * py) - 1/2 * (x - me).T @ np.linalg.inv(cov) @ (x - me) - 1/2 * np.log(np.linalg.det(cov))\n",
    "classes = [0, 1, 2]\n",
    "predict = np.array([])\n",
    "\n",
    "for x in x_train:\n",
    "    ind = np.argmax([a(x, L1, Py1, mm1, VV1), a(x, L2, Py2, mm2, VV2), a(x, L3, Py3, mm3, VV3)])\n",
    "    predict = np.append(predict, classes[ind])\n",
    "\n",
    "Q = sum(predict != y_train)\n",
    "print(Q)"
   ]
  },
  {
   "cell_type": "code",
   "execution_count": null,
   "id": "1fb97c8a",
   "metadata": {},
   "outputs": [],
   "source": []
  }
 ],
 "metadata": {
  "kernelspec": {
   "display_name": "base",
   "language": "python",
   "name": "python3"
  },
  "language_info": {
   "codemirror_mode": {
    "name": "ipython",
    "version": 3
   },
   "file_extension": ".py",
   "mimetype": "text/x-python",
   "name": "python",
   "nbconvert_exporter": "python",
   "pygments_lexer": "ipython3",
   "version": "3.12.4"
  }
 },
 "nbformat": 4,
 "nbformat_minor": 5
}
