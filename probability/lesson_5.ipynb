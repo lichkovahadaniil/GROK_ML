{
 "cells": [
  {
   "cell_type": "code",
   "execution_count": 19,
   "id": "5edde188",
   "metadata": {},
   "outputs": [
    {
     "name": "stdout",
     "output_type": "stream",
     "text": [
      "4\n"
     ]
    }
   ],
   "source": [
    "import numpy as np\n",
    "\n",
    "np.random.seed(0)\n",
    "\n",
    "# исходные параметры распределений двух классов\n",
    "r1 = 0.7\n",
    "D1 = 1.0\n",
    "mean1 = [1, -2]\n",
    "V1 = [[D1, D1 * r1], [D1 * r1, D1]]\n",
    "\n",
    "r2 = 0.5\n",
    "D2 = 2.0\n",
    "mean2 = [1, 3]\n",
    "V2 = [[D2, D2 * r2], [D2 * r2, D2]]\n",
    "\n",
    "# моделирование обучающей выборки\n",
    "N = 1000\n",
    "x1 = np.random.multivariate_normal(mean1, V1, N).T\n",
    "x2 = np.random.multivariate_normal(mean2, V2, N).T\n",
    "\n",
    "# обучающая выборка для байесовского классификатора (стандартный формат)\n",
    "x_train = np.hstack([x1, x2]).T\n",
    "y_train = np.hstack([np.ones(N) * -1, np.ones(N)])\n",
    "\n",
    "# вычисление оценок математических ожиданий\n",
    "mm1 = np.mean(x1.T, axis=0)\n",
    "mm2 = np.mean(x2.T, axis=0)\n",
    "\n",
    "# вычисление ковариационных матриц\n",
    "'''\n",
    "Cov(X, Y) = matexp((X-mathexp(X)) * (Y - mathexp(Y)))\n",
    "'''\n",
    "a = (x1.T - mm1).T\n",
    "VV1 = np.array([[np.dot(a[0], a[0]) / N, np.dot(a[0], a[1]) / N],\n",
    "                [np.dot(a[1], a[0]) / N, np.dot(a[1], a[1]) / N]])\n",
    "\n",
    "a = (x2.T - mm2).T\n",
    "VV2 = np.array([[np.dot(a[0], a[0]) / N, np.dot(a[0], a[1]) / N],\n",
    "                [np.dot(a[1], a[0]) / N, np.dot(a[1], a[1]) / N]])\n",
    "\n",
    "# параметры для гауссовского байесовского классификатора\n",
    "Py1, L1 = 0.5, 1  # вероятности появления классов\n",
    "Py2, L2 = 1 - Py1, 1  # и величины штрафов неверной классификации\n",
    "\n",
    "# здесь продолжайте программу\n",
    "func = lambda x, cv, m, lm, py: np.log(lm * py) - 0.5 * (x - m).T @ np.linalg.inv(cv) @ (x - m) - 1/2 * np.log(np.linalg.det(cv))\n",
    "predict = []\n",
    "classes = [-1, 1]\n",
    "for x in x_train:\n",
    "    # classifier\n",
    "    ind = np.argmax([func(x, VV1, mm1, L1, Py1), func(x, VV2, mm2, L2, Py2)])\n",
    "    predict = np.append(predict, classes[ind])\n",
    "\n",
    "Q = np.sum(predict != y_train)\n",
    "print(Q)"
   ]
  },
  {
   "cell_type": "code",
   "execution_count": null,
   "id": "78ff87ed",
   "metadata": {},
   "outputs": [
    {
     "name": "stdout",
     "output_type": "stream",
     "text": [
      "78\n"
     ]
    }
   ],
   "source": [
    "import numpy as np\n",
    "\n",
    "np.random.seed(0)\n",
    "\n",
    "# исходные параметры распределений двух классов\n",
    "r1 = 0.7\n",
    "D1 = 1.0\n",
    "mean1 = [-1, -2, -1]\n",
    "V1 = [[D1, D1 * r1, D1*r1*r1], [D1 * r1, D1, D1*r1], [D1*r1*r1, D1*r1, D1]]\n",
    "\n",
    "r2 = 0.5\n",
    "D2 = 2.0\n",
    "mean2 = [1, 2, 1]\n",
    "V2 = [[D2, D2 * r2, D2*r2*r2], [D2 * r2, D2, D2*r2], [D2*r2*r2, D2*r2, D2]]\n",
    "\n",
    "# моделирование обучающей выборки\n",
    "N = 1000\n",
    "# точки в трехмерном пространстве (N штук)\n",
    "x1 = np.random.multivariate_normal(mean1, V1, N).T \n",
    "x2 = np.random.multivariate_normal(mean2, V2, N).T\n",
    "\n",
    "x_train = np.hstack([x1, x2]).T\n",
    "y_train = np.hstack([np.ones(N) * -1, np.ones(N)])\n",
    "\n",
    "# math expectation\n",
    "mm1 = np.mean(x1.T, axis=0) # same mm1 = np.mean(x1, axis=1)\n",
    "mm2 = np.mean(x2.T, axis=0)\n",
    "\n",
    "a = (x1.T - mm1).T\n",
    "Cv1 = np.array([[np.dot(a[0], a[0]) / N, np.dot(a[0], a[1]) / N, np.dot(a[0], a[2]) / N],\n",
    "              [np.dot(a[1], a[0]) / N, np.dot(a[1], a[1]) / N, np.dot(a[1], a[2]) / N],\n",
    "              [np.dot(a[2], a[0]) / N, np.dot(a[2], a[1]) / N, np.dot(a[2], a[2]) / N]])\n",
    "\n",
    "a = (x2.T - mm2).T\n",
    "Cv2 = np.array([[np.dot(a[0], a[0]) / N, np.dot(a[0], a[1]) / N, np.dot(a[0], a[2]) / N],\n",
    "              [np.dot(a[1], a[0]) / N, np.dot(a[1], a[1]) / N, np.dot(a[1], a[2]) / N],\n",
    "              [np.dot(a[2], a[0]) / N, np.dot(a[2], a[1]) / N, np.dot(a[2], a[2]) / N]])\n",
    "\n",
    "Py1, L1 = 0.5, 1  # вероятности появления классов\n",
    "Py2, L2 = 1 - Py1, 1  # и величины штрафов неверной классификации\n",
    "\n",
    "func = lambda x, cv, m, lm, py: np.log(lm * py) - 1/2 * (x - m).T @ np.linalg.inv(cv) @ (x - m) - 1/2 * np.log(np.linalg.det(cv))\n",
    "classes = [-1, 1]\n",
    "predict = np.array([])\n",
    "for x in x_train:\n",
    "    ind = np.argmax([func(x, Cv1, mm1, L1, Py1), func(x, Cv2, mm2, L2, Py2)])\n",
    "    predict = np.append(predict, classes[ind])\n",
    "\n",
    "Q = np.sum(predict != y_train)\n",
    "print(Q)"
   ]
  },
  {
   "cell_type": "code",
   "execution_count": 26,
   "id": "83eda1dd",
   "metadata": {},
   "outputs": [
    {
     "name": "stdout",
     "output_type": "stream",
     "text": [
      "[[-2.07377476 -4.00199662 -2.47791373]\n",
      " [-2.13689067 -3.71335797 -4.02303178]\n",
      " [-1.89394394 -2.84268827 -1.74108065]\n",
      " ...\n",
      " [ 1.83540402  2.58856921 -0.49378931]\n",
      " [ 0.41639239  2.25963214  2.72141234]\n",
      " [ 2.01767818  2.46559236  1.33621244]]\n"
     ]
    }
   ],
   "source": [
    "print(x_train)"
   ]
  },
  {
   "cell_type": "markdown",
   "id": "3d7dbc50",
   "metadata": {},
   "source": [
    "# 6"
   ]
  },
  {
   "cell_type": "code",
   "execution_count": null,
   "id": "557edf58",
   "metadata": {},
   "outputs": [
    {
     "name": "stdout",
     "output_type": "stream",
     "text": [
      "8\n"
     ]
    }
   ],
   "source": [
    "import numpy as np\n",
    "\n",
    "np.random.seed(0)\n",
    "\n",
    "# исходные параметры распределений двух классов\n",
    "mean1 = [1, -2]\n",
    "mean2 = [1, 3]\n",
    "r = 0.7\n",
    "D = 2.0\n",
    "V = [[D, D * r], [D * r, D]]\n",
    "\n",
    "# моделирование обучающей выборки\n",
    "N = 1000\n",
    "# coordinates\n",
    "x1 = np.random.multivariate_normal(mean1, V, N).T\n",
    "x2 = np.random.multivariate_normal(mean2, V, N).T\n",
    "\n",
    "x_train = np.hstack([x1, x2]).T\n",
    "y_train = np.hstack([np.ones(N) * -1, np.ones(N)])\n",
    "\n",
    "# вычисление оценок МО и ковариационной матрицы\n",
    "mm1 = np.mean(x1.T, axis=0)\n",
    "mm2 = np.mean(x2.T, axis=0)\n",
    "\n",
    "# like Cov matrix is same for each classes\n",
    "a = np.hstack([(x1.T - mm1).T, (x2.T - mm2).T])\n",
    "VV = np.array([[np.dot(a[0], a[0]) / (2*N), np.dot(a[0], a[1]) / (2*N)],\n",
    "                [np.dot(a[1], a[0]) / (2*N), np.dot(a[1], a[1]) / (2*N)]])\n",
    "\n",
    "# здесь продолжайте программу\n",
    "L = 1\n",
    "Py = 0.5\n",
    "predict = np.array([])\n",
    "classes = [-1, 1]\n",
    "\n",
    "func = lambda x, l, py, m, cov: np.log(l * py) - 1/2 * m.T @ np.linalg.inv(cov) @ m + x.T @ np.linalg.inv(cov) @ m\n",
    "\n",
    "for x in x_train:\n",
    "    ind = np.argmax([func(x, L, Py, mm1, VV), func(x, L, Py, mm2, VV)])\n",
    "    predict = np.append(predict, classes[ind])\n",
    "\n",
    "Q = np.sum(predict != y_train)\n",
    "print(Q)"
   ]
  }
 ],
 "metadata": {
  "kernelspec": {
   "display_name": "base",
   "language": "python",
   "name": "python3"
  },
  "language_info": {
   "codemirror_mode": {
    "name": "ipython",
    "version": 3
   },
   "file_extension": ".py",
   "mimetype": "text/x-python",
   "name": "python",
   "nbconvert_exporter": "python",
   "pygments_lexer": "ipython3",
   "version": "3.12.4"
  }
 },
 "nbformat": 4,
 "nbformat_minor": 5
}
