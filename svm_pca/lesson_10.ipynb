{
 "cells": [
  {
   "cell_type": "markdown",
   "id": "cd6f77c9",
   "metadata": {},
   "source": [
    "# Micro and macro precision and recall metrics"
   ]
  },
  {
   "cell_type": "markdown",
   "id": "bf23f82e",
   "metadata": {},
   "source": [
    "Продолжите программу и, используя микро-усреднение показателей, вычислите значения precision и recall. Сохраните результат в переменных с такими же именами."
   ]
  },
  {
   "cell_type": "code",
   "execution_count": null,
   "id": "5613a56b",
   "metadata": {},
   "outputs": [
    {
     "name": "stdout",
     "output_type": "stream",
     "text": [
      "0.7171314741035857 0.8450704225352113\n"
     ]
    }
   ],
   "source": [
    "import numpy as np\n",
    "'''\n",
    "micro-averaging is when for each class we calculate the average value of T/F P/N sequentially, and then calculating precision and recall\n",
    "'''\n",
    "\n",
    "TP = [45, 37, 51, 47]\n",
    "TN = [36, 37, 29, 28]\n",
    "FP = [18, 21, 15, 17]\n",
    "FN = [8, 11, 9, 5]\n",
    "\n",
    "precision = np.mean(TP) / (np.mean(TP) + np.mean(FP))\n",
    "recall = np.mean(TP) / (np.mean(TP) + np.mean(FN))\n",
    "\n",
    "print(precision, recall)"
   ]
  },
  {
   "cell_type": "markdown",
   "id": "3e155b0f",
   "metadata": {},
   "source": [
    "Продолжите программу и, используя макро-усреднение показателей, вычислите значения precision и recall. Сохраните результат в переменных с такими же именами."
   ]
  },
  {
   "cell_type": "code",
   "execution_count": 4,
   "id": "bd44ac50",
   "metadata": {},
   "outputs": [
    {
     "name": "stdout",
     "output_type": "stream",
     "text": [
      "0.8107142857142857 0.8521778238877711\n"
     ]
    }
   ],
   "source": [
    "import numpy as np\n",
    "'''\n",
    "marco-averaging is when for each class we calculate the T/F P/N, and then calculate average precision and recall\n",
    "'''\n",
    "\n",
    "TP = [57, 48, 60, 55]\n",
    "TN = [32, 35, 28, 41]\n",
    "FP = [13, 15, 12, 11]\n",
    "FN = [7, 12, 11, 8]\n",
    "\n",
    "TPk = TNk = FPk = FNk = 0\n",
    "precision = []\n",
    "recall = []\n",
    "\n",
    "for i in range(len(TP)):\n",
    "    curr_p = TP[i] / (TP[i] + FP[i]) # 1 - error in positive\n",
    "    curr_r = TP[i] / (TP[i] + FN[i]) # probability of true positive in relation to all real positive\n",
    "\n",
    "    precision.append(curr_p)\n",
    "    recall.append(curr_r)\n",
    "\n",
    "precision = np.mean(precision)\n",
    "recall = np.mean(recall)\n",
    "\n",
    "print(precision, recall)"
   ]
  },
  {
   "cell_type": "code",
   "execution_count": null,
   "id": "85bf9c11",
   "metadata": {},
   "outputs": [],
   "source": []
  }
 ],
 "metadata": {
  "kernelspec": {
   "display_name": "base",
   "language": "python",
   "name": "python3"
  },
  "language_info": {
   "codemirror_mode": {
    "name": "ipython",
    "version": 3
   },
   "file_extension": ".py",
   "mimetype": "text/x-python",
   "name": "python",
   "nbconvert_exporter": "python",
   "pygments_lexer": "ipython3",
   "version": "3.12.4"
  }
 },
 "nbformat": 4,
 "nbformat_minor": 5
}
