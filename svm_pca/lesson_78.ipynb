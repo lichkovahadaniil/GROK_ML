{
 "cells": [
  {
   "cell_type": "markdown",
   "id": "cb9c5f00",
   "metadata": {},
   "source": [
    "# Task 1\n",
    "\n",
    "calculating of Gram's matrix"
   ]
  },
  {
   "cell_type": "code",
   "execution_count": 1,
   "id": "9e8733a2",
   "metadata": {},
   "outputs": [
    {
     "name": "stdout",
     "output_type": "stream",
     "text": [
      "[121.97087918   4.65931132   2.65089954   1.01874301   0.73233795]\n"
     ]
    }
   ],
   "source": [
    "import numpy as np\n",
    "\n",
    "np.random.seed(0)\n",
    "\n",
    "# исходные параметры для формирования образов обучающей выборки\n",
    "r = 0.7\n",
    "D = 3.0\n",
    "mean = [3, 7, -2, 4, 6]\n",
    "n_feature = 5\n",
    "V = [[D * r ** abs(i-j) for j in range(n_feature)] for i in range(n_feature)]\n",
    "\n",
    "# моделирование обучающей выборки\n",
    "N = 1000\n",
    "X = np.random.multivariate_normal(mean, V, N)\n",
    "\n",
    "F = 1/N * X.T @ X # Gram's matrix\n",
    "\n",
    "L, W = np.linalg.eig(F) # L - eigenvalues, W - eigenvectors собственные числа и векторы\n",
    "\n",
    "print(L)\n",
    "\n"
   ]
  },
  {
   "cell_type": "markdown",
   "id": "2b8269d6",
   "metadata": {},
   "source": [
    "# Repeat Precision and Recall"
   ]
  },
  {
   "cell_type": "markdown",
   "id": "5ab3e9b3",
   "metadata": {},
   "source": [
    "**precision** - trust level to model, when it gives me a +1 class\n",
    "\n",
    "**recall** - a metric for coverage of +1 class"
   ]
  },
  {
   "cell_type": "code",
   "execution_count": null,
   "id": "2c135d30",
   "metadata": {},
   "outputs": [],
   "source": [
    "precision = 87 / (87 + 50) # TP / (TP + FP)\n",
    "recall = 87 / (87 + 13) # TP / (TP + FN)"
   ]
  },
  {
   "cell_type": "markdown",
   "id": "fc278cb0",
   "metadata": {},
   "source": [
    "# PCA example"
   ]
  },
  {
   "cell_type": "code",
   "execution_count": 17,
   "id": "b2c58399",
   "metadata": {},
   "outputs": [
    {
     "name": "stdout",
     "output_type": "stream",
     "text": [
      "(3, 1000) (1000,)\n"
     ]
    }
   ],
   "source": [
    "import numpy as np\n",
    "\n",
    "sz = 1000\n",
    "np.random.seed(52)\n",
    "x = np.random.normal(size=sz)\n",
    "y = np.random.normal(size=sz)\n",
    "z = (x + y) / 2\n",
    "\n",
    "F = np.vstack([x, y, z]) # the matrix of features\n",
    "print(F.shape, x.shape)\n"
   ]
  },
  {
   "cell_type": "markdown",
   "id": "91007687",
   "metadata": {},
   "source": [
    "F already is F.T"
   ]
  },
  {
   "cell_type": "code",
   "execution_count": 34,
   "id": "4aa4da3c",
   "metadata": {},
   "outputs": [
    {
     "name": "stdout",
     "output_type": "stream",
     "text": [
      "[158.14594018699063, 0.025014420854853305, 2.9379667146615677e-06]\n"
     ]
    }
   ],
   "source": [
    "G = 1 / sz * F @ F.T # F @ F.T real\n",
    "L, W = np.linalg.eig(G) # eigvalues and eigvectors\n",
    "WW = sorted(zip(L, W), key=lambda x: x[0], reverse=True)\n",
    "W_real = [w[1] for w in WW] # eigvectors\n",
    "\n",
    "print(sorted(L, reverse=True))\n"
   ]
  },
  {
   "cell_type": "markdown",
   "id": "c286e09c",
   "metadata": {},
   "source": [
    "last is 0 - PCA effect"
   ]
  },
  {
   "cell_type": "code",
   "execution_count": 4,
   "id": "fd6dd585",
   "metadata": {},
   "outputs": [
    {
     "name": "stdout",
     "output_type": "stream",
     "text": [
      "[45.74193057558496, 4.585964424415061, 1.1500018677090703e-14, 5.31476519635289e-15]\n"
     ]
    }
   ],
   "source": [
    "import numpy as np\n",
    "\n",
    "data_x = [(1.3, 5.5), (1.5, 4.9), (4.9, 6.3), (1.5, 5.2), (3.5, 5.7), (1.4, 4.6), (4.8, 5.9), (4.5, 5.7), (3.7, 5.5), (1.5, 5.3), (4.6, 6.1), (1.6, 4.8), (1.5, 5.0), (4.0, 5.5), (1.3, 4.7), (1.4, 5.0), (1.7, 5.1), (1.5, 5.2), (3.9, 5.2), (1.5, 4.6), (4.1, 5.8), (1.9, 5.1), (4.0, 5.5), (4.6, 6.6), (4.5, 6.4), (4.5, 6.0), (4.7, 6.1), (1.3, 4.5), (5.1, 6.0), (4.4, 6.6), (4.0, 6.1), (4.5, 6.2), (3.8, 5.5), (1.5, 5.4), (4.9, 6.9), (3.0, 5.1), (4.5, 5.6), (1.4, 4.9), (4.0, 5.8), (5.0, 6.7), (4.4, 5.5), (3.9, 5.6), (1.4, 4.6), (3.3, 4.9), (3.9, 5.8), (4.2, 5.7), (4.4, 6.3), (1.4, 5.1), (1.6, 5.0), (1.5, 5.1), (4.7, 6.3), (3.6, 5.6), (4.4, 6.7), (1.7, 5.4), (1.3, 4.4), (4.1, 5.6), (1.0, 4.6), (4.3, 6.2), (1.4, 4.4), (4.5, 6.0), (4.7, 6.7), (3.3, 5.0), (1.5, 4.9), (3.5, 5.0), (1.6, 4.7), (1.4, 4.9), (1.4, 4.8), (1.3, 5.0), (4.6, 6.5), (4.0, 6.0), (4.7, 6.1), (1.6, 5.0), (1.4, 5.2), (4.7, 7.0), (1.1, 4.3), (1.6, 5.1), (4.3, 6.4), (1.2, 5.8), (1.9, 4.8), (1.4, 4.8), (1.5, 5.1), (4.8, 6.8), (4.1, 5.7), (1.7, 5.7), (1.6, 5.0), (4.2, 5.7), (1.6, 4.8), (1.2, 5.0), (1.3, 4.4), (1.7, 5.4), (4.5, 5.4), (4.2, 5.6), (1.5, 5.4), (1.4, 5.5), (1.4, 5.1), (1.5, 5.1), (4.2, 5.9), (1.5, 5.7), (1.4, 5.0), (1.3, 5.4)]\n",
    "X = np.array([[x[0], x[1], 0.8 * x[0], 1.5 * x[0] - 0.8 * x[1]] for x in data_x])\n",
    "\n",
    "# Gram's matrix\n",
    "F = 1/len(X) * X.T @ X # len(X) - quantity of features\n",
    "L, W = np.linalg.eig(F)\n",
    "L = sorted(L, reverse=True)\n",
    "\n",
    "print(L)"
   ]
  },
  {
   "cell_type": "markdown",
   "id": "1547b00e",
   "metadata": {},
   "source": [
    "Сформируйте матрицу WW, состоящую из упорядоченных по убыванию значимости собственных векторов следующими командами:"
   ]
  },
  {
   "cell_type": "code",
   "execution_count": 33,
   "id": "0a4de0c5",
   "metadata": {},
   "outputs": [],
   "source": [
    "import numpy as np\n",
    "\n",
    "data_x = [(1.3, 5.5), (1.5, 4.9), (4.9, 6.3), (1.5, 5.2), (3.5, 5.7), (1.4, 4.6), (4.8, 5.9), (4.5, 5.7), (3.7, 5.5), (1.5, 5.3), (4.6, 6.1), (1.6, 4.8), (1.5, 5.0), (4.0, 5.5), (1.3, 4.7), (1.4, 5.0), (1.7, 5.1), (1.5, 5.2), (3.9, 5.2), (1.5, 4.6), (4.1, 5.8), (1.9, 5.1), (4.0, 5.5), (4.6, 6.6), (4.5, 6.4), (4.5, 6.0), (4.7, 6.1), (1.3, 4.5), (5.1, 6.0), (4.4, 6.6), (4.0, 6.1), (4.5, 6.2), (3.8, 5.5), (1.5, 5.4), (4.9, 6.9), (3.0, 5.1), (4.5, 5.6), (1.4, 4.9), (4.0, 5.8), (5.0, 6.7), (4.4, 5.5), (3.9, 5.6), (1.4, 4.6), (3.3, 4.9), (3.9, 5.8), (4.2, 5.7), (4.4, 6.3), (1.4, 5.1), (1.6, 5.0), (1.5, 5.1), (4.7, 6.3), (3.6, 5.6), (4.4, 6.7), (1.7, 5.4), (1.3, 4.4), (4.1, 5.6), (1.0, 4.6), (4.3, 6.2), (1.4, 4.4), (4.5, 6.0), (4.7, 6.7), (3.3, 5.0), (1.5, 4.9), (3.5, 5.0), (1.6, 4.7), (1.4, 4.9), (1.4, 4.8), (1.3, 5.0), (4.6, 6.5), (4.0, 6.0), (4.7, 6.1), (1.6, 5.0), (1.4, 5.2), (4.7, 7.0), (1.1, 4.3), (1.6, 5.1), (4.3, 6.4), (1.2, 5.8), (1.9, 4.8), (1.4, 4.8), (1.5, 5.1), (4.8, 6.8), (4.1, 5.7), (1.7, 5.7), (1.6, 5.0), (4.2, 5.7), (1.6, 4.8), (1.2, 5.0), (1.3, 4.4), (1.7, 5.4), (4.5, 5.4), (4.2, 5.6), (1.5, 5.4), (1.4, 5.5), (1.4, 5.1), (1.5, 5.1), (4.2, 5.9), (1.5, 5.7), (1.4, 5.0), (1.3, 5.4)]\n",
    "\n",
    "X = np.array([[x[0], x[1], x[0] * x[1]] for x in data_x])\n",
    "F = 1/len(X) * X.T @ X\n",
    "\n",
    "L, W = np.linalg.eig(F)\n",
    "# print(W)\n",
    "# print(list(zip(L, W)))\n",
    "WW = sorted(zip(L, W), key=lambda x: x[0], reverse=True)\n",
    "WW = np.array([w[1] for w in WW])\n",
    "\n",
    "# Вычислите новый набор признаков объектов выборки X в пространстве векторов WW. Сохраните результат в матрице G:\n",
    "# print(WW[:10])\n",
    "G = X @ WW.T"
   ]
  },
  {
   "cell_type": "code",
   "execution_count": 20,
   "id": "ba8ab001",
   "metadata": {},
   "outputs": [
    {
     "name": "stdout",
     "output_type": "stream",
     "text": [
      "(100, 3) (3, 3)\n"
     ]
    }
   ],
   "source": [
    "print(X.shape, WW.shape)"
   ]
  },
  {
   "cell_type": "markdown",
   "id": "aa21b9b8",
   "metadata": {},
   "source": [
    "# Task 3\n",
    "\n",
    "<img src=\".././photo/condition23.png\" alt=\"photo\" width=\"672\" height=\"400\">\n"
   ]
  },
  {
   "cell_type": "code",
   "execution_count": 80,
   "id": "90cb1273",
   "metadata": {},
   "outputs": [],
   "source": [
    "import numpy as np\n",
    "\n",
    "\n",
    "def func(x):\n",
    "    return 0.5 * x + 0.2 * x ** 2 - 0.05 * x ** 3 + 0.2 * np.sin(4 * x) - 3\n",
    "\n",
    "\n",
    "coord_x = np.arange(-4.0, 6.0, 0.1)\n",
    "coord_y = func(coord_x)\n",
    "K = 10\n",
    "X = np.array([[xx**i for i in range(K)] for xx in coord_x]) # обучающая выборка для поиска коэффициентов модели\n",
    "Y = coord_y\n",
    "\n",
    "X_train = X[::2]  # обучающая выборка (входы) (шаг 2)\n",
    "Y_train = Y[::2]  # обучающая выборка (целевые значения) (шаг 2)\n",
    "\n",
    "# здесь продолжайте программу\n",
    "# Gram's matrix\n",
    "F = 1 / len(X_train) * X_train.T @ X_train\n",
    "\n",
    "L, W = np.linalg.eig(F)\n",
    "WW = sorted(zip(L, W), key=lambda x: x[0], reverse=False)\n",
    "WW = np.array([w[1] for w in WW])\n",
    "\n",
    "G = X @ WW.T\n",
    "G = np.array([x[:7] for x in G])\n",
    "# print(G.shape)"
   ]
  },
  {
   "cell_type": "markdown",
   "id": "68c2018e",
   "metadata": {},
   "source": [
    "<img src=\".././photo/condition24.png\" alt=\"photo\" width=\"672\" height=\"400\">"
   ]
  },
  {
   "cell_type": "code",
   "execution_count": 81,
   "id": "867d7832",
   "metadata": {},
   "outputs": [],
   "source": [
    "XX_train = G[::2]\n",
    "# print(XX_train.shape, Y_train.shape)\n",
    "w = np.linalg.inv(XX_train.T @ XX_train) @ XX_train.T @ Y_train\n",
    "\n",
    "predict = [np.dot(w.T, x) for x in G]\n",
    "# print(predict)"
   ]
  },
  {
   "cell_type": "code",
   "execution_count": 83,
   "id": "0675949e",
   "metadata": {},
   "outputs": [
    {
     "data": {
      "image/png": "[encoded data removed]",
      "text/plain": [
       "<Figure size 640x480 with 1 Axes>"
      ]
     },
     "metadata": {},
     "output_type": "display_data"
    }
   ],
   "source": [
    "import matplotlib.pyplot as plt\n",
    "\n",
    "\n",
    "\n",
    "plt.plot(coord_x, coord_y, label='original', ls='-')\n",
    "plt.plot(coord_x, predict, label='predict', ls='--')\n",
    "plt.legend()\n",
    "plt.grid(True, alpha=0.5)"
   ]
  },
  {
   "cell_type": "code",
   "execution_count": null,
   "id": "c1fd4fab",
   "metadata": {},
   "outputs": [
    {
     "name": "stdout",
     "output_type": "stream",
     "text": [
      "100 100\n"
     ]
    }
   ],
   "source": [
    "print(len(X), len(coord_x))"
   ]
  },
  {
   "cell_type": "code",
   "execution_count": null,
   "id": "1504cb31",
   "metadata": {},
   "outputs": [],
   "source": []
  }
 ],
 "metadata": {
  "kernelspec": {
   "display_name": "base",
   "language": "python",
   "name": "python3"
  },
  "language_info": {
   "codemirror_mode": {
    "name": "ipython",
    "version": 3
   },
   "file_extension": ".py",
   "mimetype": "text/x-python",
   "name": "python",
   "nbconvert_exporter": "python",
   "pygments_lexer": "ipython3",
   "version": "3.12.4"
  }
 },
 "nbformat": 4,
 "nbformat_minor": 5
}
