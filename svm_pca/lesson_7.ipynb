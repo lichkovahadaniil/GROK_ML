{
 "cells": [
  {
   "cell_type": "markdown",
   "id": "cb9c5f00",
   "metadata": {},
   "source": [
    "# Task 1\n",
    "\n",
    "calculating of Gram's matrix"
   ]
  },
  {
   "cell_type": "code",
   "execution_count": 1,
   "id": "9e8733a2",
   "metadata": {},
   "outputs": [
    {
     "name": "stdout",
     "output_type": "stream",
     "text": [
      "[121.97087918   4.65931132   2.65089954   1.01874301   0.73233795]\n"
     ]
    }
   ],
   "source": [
    "import numpy as np\n",
    "\n",
    "np.random.seed(0)\n",
    "\n",
    "# исходные параметры для формирования образов обучающей выборки\n",
    "r = 0.7\n",
    "D = 3.0\n",
    "mean = [3, 7, -2, 4, 6]\n",
    "n_feature = 5\n",
    "V = [[D * r ** abs(i-j) for j in range(n_feature)] for i in range(n_feature)]\n",
    "\n",
    "# моделирование обучающей выборки\n",
    "N = 1000\n",
    "X = np.random.multivariate_normal(mean, V, N)\n",
    "\n",
    "F = 1/N * X.T @ X # Gram's matrix\n",
    "\n",
    "L, W = np.linalg.eig(F) # L - eigenvalues, W - eigenvectors собственные числа и векторы\n",
    "\n",
    "print(L)\n",
    "\n"
   ]
  },
  {
   "cell_type": "markdown",
   "id": "2b8269d6",
   "metadata": {},
   "source": [
    "# Repeat Precision and Recall"
   ]
  },
  {
   "cell_type": "markdown",
   "id": "5ab3e9b3",
   "metadata": {},
   "source": [
    "**precision** - trust level to model, when it gives me a +1 class\n",
    "\n",
    "**recall** - a metric for coverage of +1 class"
   ]
  },
  {
   "cell_type": "code",
   "execution_count": null,
   "id": "2c135d30",
   "metadata": {},
   "outputs": [],
   "source": [
    "precision = 87 / (87 + 50) # TP / (TP + FP)\n",
    "recall = 87 / (87 + 13) # TP / (TP + FN)"
   ]
  }
 ],
 "metadata": {
  "kernelspec": {
   "display_name": "base",
   "language": "python",
   "name": "python3"
  },
  "language_info": {
   "codemirror_mode": {
    "name": "ipython",
    "version": 3
   },
   "file_extension": ".py",
   "mimetype": "text/x-python",
   "name": "python",
   "nbconvert_exporter": "python",
   "pygments_lexer": "ipython3",
   "version": "3.12.4"
  }
 },
 "nbformat": 4,
 "nbformat_minor": 5
}
