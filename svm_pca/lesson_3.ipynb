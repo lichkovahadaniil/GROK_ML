{
 "cells": [
  {
   "cell_type": "markdown",
   "id": "24c83412",
   "metadata": {},
   "source": [
    "# Task 1\n",
    "\n",
    "Требуется выполнить ее аппроксимацию (восстановление) моделью \n",
    "\n",
    "a(x) на интервале [-4; 6]. Модель будем синтезировать (формировать) с помощью метода опорных векторов (для задачи регрессии) с радиальным ядром (Radial Basis Function). "
   ]
  },
  {
   "cell_type": "code",
   "execution_count": 2,
   "id": "d7e8d287",
   "metadata": {},
   "outputs": [
    {
     "name": "stdout",
     "output_type": "stream",
     "text": [
      "[2.21962611 2.19935699 2.18001236 2.1617403  2.14469279 2.12902426\n",
      " 2.11489011 2.10244493 2.09184075 2.0832251  2.07673909 2.07251541\n",
      " 2.07067642 2.07133225 2.07457904 2.08049731 2.08915054 2.10058395\n",
      " 2.11482354 2.13187543 2.15172551 2.17433939 2.19966267 2.22762158\n",
      " 2.25812392 2.29106026 2.32630546 2.36372043 2.40315407 2.44444536\n",
      " 2.4874256  2.5319206  2.57775301 2.62474443 2.67271753 2.72149793\n",
      " 2.77091587 2.82080769 2.8710169  2.92139509 2.97180238 3.02210761\n",
      " 3.07218822 3.12192975 3.17122513 3.21997372 3.26808008 3.31545267\n",
      " 3.36200244 3.40764131 3.45228079 3.49583063 3.53819757 3.57928441\n",
      " 3.6189892  3.65720485 3.69381893 3.72871392 3.7617678  3.79285494\n",
      " 3.82184741 3.84861655 3.87303488 3.89497822 3.914328   3.93097374\n",
      " 3.94481554 3.95576661 3.9637557  3.96872943 3.97065434 3.96951872\n",
      " 3.9653341  3.95813637 3.94798643 3.93497047 3.91919977 3.90080997\n",
      " 3.87995993 3.8568302  3.83162092 3.80454955 3.77584807 3.74576007\n",
      " 3.71453754 3.68243754 3.64971881 3.61663839 3.58344825 3.5503921\n",
      " 3.5177024  3.48559758 3.45427959 3.42393177 3.39471712 3.36677693\n",
      " 3.34022987 3.31517139 3.29167365 3.26978579]\n",
      "0.020629182161466156\n"
     ]
    }
   ],
   "source": [
    "import numpy as np\n",
    "from sklearn import svm\n",
    "\n",
    "\n",
    "def func(x):\n",
    "    return np.sin(0.5*x) + 0.2 * np.cos(2*x) - 0.1 * np.sin(4 * x) + 3\n",
    "\n",
    "\n",
    "# обучающая выборка\n",
    "coord_x = np.expand_dims(np.arange(-4.0, 6.0, 0.1), axis=1)\n",
    "coord_y = func(coord_x).ravel()\n",
    "\n",
    "# sample\n",
    "x_train = coord_x[::3] # each third value\n",
    "y_train = coord_y[::3]\n",
    "\n",
    "# model\n",
    "reg = svm.SVR(kernel='rbf')\n",
    "reg.fit(x_train, y_train)\n",
    "\n",
    "predict = reg.predict(coord_x)\n",
    "\n",
    "Q = np.mean([(predict[i] - coord_y[i]) ** 2 for i in range(len(coord_y))])\n",
    "\n",
    "print(predict)\n",
    "print(Q)"
   ]
  },
  {
   "cell_type": "markdown",
   "id": "b778b7e4",
   "metadata": {},
   "source": [
    "# Task 2"
   ]
  },
  {
   "cell_type": "code",
   "execution_count": 6,
   "id": "2cecbb68",
   "metadata": {},
   "outputs": [
    {
     "name": "stdout",
     "output_type": "stream",
     "text": [
      "0.08\n"
     ]
    }
   ],
   "source": [
    "import numpy as np\n",
    "from sklearn import svm\n",
    "from sklearn.model_selection import train_test_split\n",
    "\n",
    "np.random.seed(0)\n",
    "\n",
    "# исходные параметры распределений классов\n",
    "r1 = 0.6\n",
    "D1 = 3.0\n",
    "mean1 = [1, -2]\n",
    "V1 = [[D1, D1 * r1], [D1 * r1, D1]]\n",
    "\n",
    "r2 = 0.5\n",
    "D2 = 2.0\n",
    "mean2 = [-2, -1]\n",
    "V2 = [[D2, D2 * r2], [D2 * r2, D2]]\n",
    "\n",
    "# моделирование обучающей выборки\n",
    "N = 500\n",
    "x1 = np.random.multivariate_normal(mean1, V1, N).T\n",
    "x2 = np.random.multivariate_normal(mean2, V2, N).T\n",
    "\n",
    "data_x = np.hstack([x1, x2]).T\n",
    "data_y = np.hstack([np.ones(N) * -1, np.ones(N)])\n",
    "\n",
    "x_train, x_test, y_train, y_test = train_test_split(data_x, data_y, random_state=123,test_size=0.4, shuffle=True)\n",
    "\n",
    "# train model\n",
    "clf = svm.SVC(kernel='rbf')\n",
    "clf.fit(x_train, y_train)\n",
    "\n",
    "# predict\n",
    "predict = clf.predict(x_test)\n",
    "Q = np.mean([predict[i] != y_test[i] for i in range(len(y_test))])\n",
    "\n",
    "# print(predict)\n",
    "print(Q)"
   ]
  },
  {
   "cell_type": "code",
   "execution_count": null,
   "id": "ce2819a2",
   "metadata": {},
   "outputs": [],
   "source": []
  }
 ],
 "metadata": {
  "kernelspec": {
   "display_name": "base",
   "language": "python",
   "name": "python3"
  },
  "language_info": {
   "codemirror_mode": {
    "name": "ipython",
    "version": 3
   },
   "file_extension": ".py",
   "mimetype": "text/x-python",
   "name": "python",
   "nbconvert_exporter": "python",
   "pygments_lexer": "ipython3",
   "version": "3.12.4"
  }
 },
 "nbformat": 4,
 "nbformat_minor": 5
}
