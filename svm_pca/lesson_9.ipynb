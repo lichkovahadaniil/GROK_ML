{
 "cells": [
  {
   "cell_type": "markdown",
   "id": "8b059d07",
   "metadata": {},
   "source": [
    "Необходимо выполнить сокращение признакового пространства матрицы table, оставив только информативные. Для этого вычислите собственные числа и собственные векторы для table так, как это делалось в предыдущих подвигах. Отсортируйте собственные векторы по убыванию собственных чисел и результат (матрицу) сохраните в переменной WW. Затем, Вычислите новый набор признаков объектов выборки table в пространстве векторов WW. Сохраните результат в матрице data_x. Удалите из полученной матрицы data_x последние k признаков, для которых значения собственных чисел \n",
    "$λ_i <0.01$"
   ]
  },
  {
   "cell_type": "code",
   "execution_count": 2,
   "id": "081b401a",
   "metadata": {},
   "outputs": [],
   "source": [
    "import numpy as np\n",
    "\n",
    "np.random.seed(0)\n",
    "\n",
    "n_total = 1000 # число образов выборки\n",
    "n_features = 200 # число признаков\n",
    "\n",
    "table = np.zeros(shape=(n_total, n_features))\n",
    "\n",
    "for _ in range(100):\n",
    "    i, j = np.random.randint(0, n_total), np.random.randint(0, n_features)\n",
    "    table[i, j] = np.random.randint(1, 10)\n",
    "\n",
    "# Gram's matrix\n",
    "F = 1/n_total * table.T @ table\n",
    "L, W = np.linalg.eig(F)\n",
    "temp = sorted(zip(L, W), key=lambda x: x[0], reverse=True)\n",
    "k = 0\n",
    "for i in range(len(temp)):\n",
    "    if temp[i][0] < 0.01:\n",
    "        k = len(temp) - i\n",
    "        break\n",
    "\n",
    "WW = np.array([w[1] for w in temp])\n",
    "\n",
    "data_x = table @ WW.T\n",
    "data_x = np.array([x[:-k] for x in data_x])"
   ]
  },
  {
   "cell_type": "markdown",
   "id": "9c83abd2",
   "metadata": {},
   "source": [
    "# Repeat SGD"
   ]
  },
  {
   "cell_type": "code",
   "execution_count": 4,
   "id": "40ed06bb",
   "metadata": {},
   "outputs": [
    {
     "name": "stdout",
     "output_type": "stream",
     "text": [
      "[-3.99368023  0.34850649  1.07879392]\n",
      "0.7092738058526213\n",
      "0.07\n"
     ]
    }
   ],
   "source": [
    "import numpy as np\n",
    "\n",
    "\n",
    "# экспоненциальная функция потерь\n",
    "def loss(w, x, y):\n",
    "    M = np.dot(w, x) * y\n",
    "    return np.exp(-M)\n",
    "\n",
    "\n",
    "# производная экспоненциальной функции потерь по вектору w\n",
    "def df(w, x, y):\n",
    "    M = np.dot(w, x) * y\n",
    "    return -np.exp(-M) * x.T * y\n",
    "\n",
    "\n",
    "data_x = [(5.8, 1.2), (5.6, 1.5), (6.5, 1.5), (6.1, 1.3), (6.4, 1.3), (7.7, 2.0), (6.0, 1.8), (5.6, 1.3), (6.0, 1.6), (5.8, 1.9), (5.7, 2.0), (6.3, 1.5), (6.2, 1.8), (7.7, 2.3), (5.8, 1.2), (6.3, 1.8), (6.0, 1.0), (6.2, 1.3), (5.7, 1.3), (6.3, 1.9), (6.7, 2.5), (5.5, 1.2), (4.9, 1.0), (6.1, 1.4), (6.0, 1.6), (7.2, 2.5), (7.3, 1.8), (6.6, 1.4), (5.6, 2.0), (5.5, 1.0), (6.4, 2.2), (5.6, 1.3), (6.6, 1.3), (6.9, 2.1), (6.8, 2.1), (5.7, 1.3), (7.0, 1.4), (6.1, 1.4), (6.1, 1.8), (6.7, 1.7), (6.0, 1.5), (6.5, 1.8), (6.4, 1.5), (6.9, 1.5), (5.6, 1.3), (6.7, 1.4), (5.8, 1.9), (6.3, 1.3), (6.7, 2.1), (6.2, 2.3), (6.3, 2.4), (6.7, 1.8), (6.4, 2.3), (6.2, 1.5), (6.1, 1.4), (7.1, 2.1), (5.7, 1.0), (6.8, 1.4), (6.8, 2.3), (5.1, 1.1), (4.9, 1.7), (5.9, 1.8), (7.4, 1.9), (6.5, 2.0), (6.7, 1.5), (6.5, 2.0), (5.8, 1.0), (6.4, 2.1), (7.6, 2.1), (5.8, 2.4), (7.7, 2.2), (6.3, 1.5), (5.0, 1.0), (6.3, 1.6), (7.7, 2.3), (6.4, 1.9), (6.5, 2.2), (5.7, 1.2), (6.9, 2.3), (5.7, 1.3), (6.1, 1.2), (5.4, 1.5), (5.2, 1.4), (6.7, 2.3), (7.9, 2.0), (5.6, 1.1), (7.2, 1.8), (5.5, 1.3), (7.2, 1.6), (6.3, 2.5), (6.3, 1.8), (6.7, 2.4), (5.0, 1.0), (6.4, 1.8), (6.9, 2.3), (5.5, 1.3), (5.5, 1.1), (5.9, 1.5), (6.0, 1.5), (5.9, 1.8)]\n",
    "data_y = [-1, -1, -1, -1, -1, 1, 1, -1, -1, 1, 1, -1, 1, 1, -1, 1, -1, -1, -1, 1, 1, -1, -1, -1, -1, 1, 1, -1, 1, -1, 1, -1, -1, 1, 1, -1, -1, 1, 1, -1, 1, 1, -1, -1, -1, -1, 1, -1, 1, 1, 1, 1, 1, -1, -1, 1, -1, -1, 1, -1, 1, -1, 1, 1, -1, 1, -1, 1, 1, 1, 1, 1, -1, -1, 1, 1, 1, -1, 1, -1, -1, -1, -1, 1, 1, -1, 1, -1, 1, 1, 1, 1, -1, 1, 1, -1, -1, -1, -1, 1]\n",
    "\n",
    "x_train = np.array([[1, x[0], x[1]] for x in data_x])\n",
    "y_train = np.array(data_y)\n",
    "\n",
    "n_train = len(x_train)  # размер обучающей выборки\n",
    "w = [0.0, 0.0, 0.0]  # начальные весовые коэффициенты\n",
    "nt = np.array([0.5, 0.01, 0.01])  # шаг обучения для каждого параметра w0, w1, w2\n",
    "lm = 0.01  # значение параметра лямбда для вычисления скользящего экспоненциального среднего\n",
    "N = 500  # число итераций алгоритма SGD\n",
    "batch_size = 10 # размер мини-батча (величина K = 10)\n",
    "\n",
    "Qe = np.mean([loss(w, x, y) for x, y in zip(x_train[:batch_size], y_train[:batch_size])])# начальное значение среднего эмпирического риска\n",
    "np.random.seed(0) # генерация одинаковых последовательностей псевдослучайных чисел\n",
    "\n",
    "for _ in range(N):\n",
    "    k = np.random.randint(0, n_train - batch_size - 1)\n",
    "\n",
    "    Qk = 0\n",
    "    diff_Qk = []\n",
    "    for i in range(k, k+batch_size):\n",
    "        Qk += loss(w, x_train[i], y_train[i])\n",
    "        diff_Qk += [df(w, x_train[i], y_train[i])]\n",
    "\n",
    "    Qk /= batch_size\n",
    "    diff_Qk = np.mean(diff_Qk, axis=0)\n",
    "\n",
    "    w -= nt * diff_Qk\n",
    "\n",
    "    Qe = lm * Qk + (1 - lm) * Qe\n",
    "\n",
    "Q = np.mean([(np.dot(w, x) * y) < 0 for x, y in zip(x_train, y_train)])\n",
    "\n",
    "print(w)\n",
    "print(Qe)\n",
    "print(Q)"
   ]
  },
  {
   "cell_type": "markdown",
   "id": "5d9b533a",
   "metadata": {},
   "source": [
    "# Task 3"
   ]
  },
  {
   "cell_type": "code",
   "execution_count": 24,
   "id": "ae052251",
   "metadata": {},
   "outputs": [
    {
     "name": "stdout",
     "output_type": "stream",
     "text": [
      "0.4606385324397492\n"
     ]
    },
    {
     "data": {
      "image/png": "[encoded data removed]",
      "text/plain": [
       "<Figure size 640x480 with 1 Axes>"
      ]
     },
     "metadata": {},
     "output_type": "display_data"
    }
   ],
   "source": [
    "'''\n",
    "Search point of minimum by the gradient pulse method\n",
    "'''\n",
    "import matplotlib.pyplot as plt\n",
    "import numpy as np\n",
    "import sympy as sp\n",
    "\n",
    "# def func(x):\n",
    "#     return -0.5 * x + 0.2 * x ** 2 - 0.01 * x ** 3 - 0.3 * np.sin(4*x)\n",
    "\n",
    "xx = sp.symbols('x')\n",
    "f = -0.5 * xx + 0.2 * xx ** 2 - 0.01 * xx ** 3 - 0.3 * sp.sin(4*xx)\n",
    "df = sp.diff(f, xx)\n",
    "\n",
    "# turn into numpy functions\n",
    "func = sp.lambdify(xx, f, 'numpy')\n",
    "dfunc = sp.lambdify(xx, df, 'numpy')\n",
    "\n",
    "nt = 0.1\n",
    "x = -3.5\n",
    "N = 200\n",
    "gm = 0.8\n",
    "v = 0\n",
    "\n",
    "# plotting\n",
    "x_axis = np.linspace(-5, 5, 10_000)\n",
    "y_axis = func(x_axis)\n",
    "plt.plot(x_axis, y_axis, label='function')\n",
    "plt.grid(True, alpha=0.5)\n",
    "\n",
    "for i in range(N):\n",
    "    v = gm * v + (1 - gm) * nt * dfunc(x)\n",
    "    x -= v\n",
    "    plt.scatter(x, func(x), c='g', alpha=0.3)\n",
    "    if i == N-1:\n",
    "        plt.scatter(x, func(x), c='r', alpha=0.7, label='local minimum')\n",
    "\n",
    "plt.legend()\n",
    "print(x)"
   ]
  },
  {
   "cell_type": "markdown",
   "id": "81657224",
   "metadata": {},
   "source": [
    "## Without sympy"
   ]
  },
  {
   "cell_type": "code",
   "execution_count": null,
   "id": "a3446e35",
   "metadata": {},
   "outputs": [],
   "source": [
    "import numpy as np\n",
    "\n",
    "def func(x):\n",
    "    return -0.5 * x + 0.2 * x ** 2 - 0.01 * x ** 3 - 0.3 * np.sin(4*x)\n",
    "\n",
    "def df(x):\n",
    "    return -0.5 + 0.4 * x - 0.03 * x ** 2 - 0.3 * np.cos(4*x) * 4\n",
    "\n",
    "nt = 0.1\n",
    "x = -3.5\n",
    "N = 200\n",
    "gm = 0.8\n",
    "v = 0\n",
    "\n",
    "for i in range(N):\n",
    "    v = gm * v + (1 - gm) * nt * df(x)\n",
    "    x -= v\n"
   ]
  },
  {
   "cell_type": "markdown",
   "id": "9a473e8a",
   "metadata": {},
   "source": [
    "# Task 4"
   ]
  },
  {
   "cell_type": "markdown",
   "id": "e9e96537",
   "metadata": {},
   "source": []
  },
  {
   "cell_type": "code",
   "execution_count": 3,
   "id": "1810eb4c",
   "metadata": {},
   "outputs": [
    {
     "name": "stdout",
     "output_type": "stream",
     "text": [
      "[ 9.43504289e+00 -3.57361097e-02  9.10473166e-02  2.18868762e-03\n",
      "  5.10143799e-02  4.20846912e-03  1.28042129e-01  1.65388204e-02\n",
      "  6.84549306e-02 -1.57564945e-02 -9.61808402e-02  1.16106284e-02\n",
      "  3.30780535e-02 -4.15284979e-03 -5.43912596e-03  7.54559635e-04\n",
      "  4.78204151e-04 -7.30031667e-05 -2.17255539e-05  3.60157269e-06\n",
      "  4.02159053e-07 -7.14672011e-08]\n",
      "0.2965193952075225\n"
     ]
    }
   ],
   "source": [
    "import numpy as np\n",
    "\n",
    "\n",
    "def func(x):\n",
    "    return 0.1 * x + 0.1 * x ** 2 - 0.5 * np.sin(2*x) + 1 * np.cos(4*x) + 10\n",
    "\n",
    "\n",
    "x = np.arange(-3.0, 4.1, 0.1) # значения по оси абсцисс (Ox) с шагом 0,1\n",
    "y = np.array(func(x)) # значения функции по оси ординат\n",
    "\n",
    "N = 22  # размер признакового пространства (степень полинома N-1)\n",
    "lm = 20  # параметр лямбда для L2-регуляризатора\n",
    "\n",
    "X = np.array([[a ** n for n in range(N)] for a in x])  # матрица входных векторов\n",
    "IL = np.array([[lm if i == j else 0 for j in range(N)] for i in range(N)])  # матрица lambda*I\n",
    "IL[0][0] = 0  # первый коэффициент не регуляризуем\n",
    "\n",
    "X_train = X[::2]  # обучающая выборка (входы)\n",
    "Y_train = y[::2]  # обучающая выборка (целевые значения)\n",
    "\n",
    "w = np.linalg.inv(X_train.T @ X_train + IL) @ X_train.T @ Y_train\n",
    "Q = np.mean([(np.dot(w, xi) - func(xi[1])) ** 2 for xi in X])\n",
    "\n",
    "print(w)\n",
    "print(Q)"
   ]
  }
 ],
 "metadata": {
  "kernelspec": {
   "display_name": "base",
   "language": "python",
   "name": "python3"
  },
  "language_info": {
   "codemirror_mode": {
    "name": "ipython",
    "version": 3
   },
   "file_extension": ".py",
   "mimetype": "text/x-python",
   "name": "python",
   "nbconvert_exporter": "python",
   "pygments_lexer": "ipython3",
   "version": "3.12.4"
  }
 },
 "nbformat": 4,
 "nbformat_minor": 5
}
