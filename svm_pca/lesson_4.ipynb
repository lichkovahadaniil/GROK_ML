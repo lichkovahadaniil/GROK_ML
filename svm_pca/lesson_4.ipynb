{
 "cells": [
  {
   "cell_type": "markdown",
   "id": "f847e32e",
   "metadata": {},
   "source": [
    "# Task 1"
   ]
  },
  {
   "cell_type": "code",
   "execution_count": 4,
   "id": "7e6876e5",
   "metadata": {},
   "outputs": [
    {
     "name": "stdout",
     "output_type": "stream",
     "text": [
      "[ 0.61623616 -1.09035625  0.65994508]\n",
      "0.935\n"
     ]
    }
   ],
   "source": [
    "import numpy as np\n",
    "from sklearn import svm\n",
    "from sklearn.model_selection import train_test_split\n",
    "\n",
    "np.random.seed(0)\n",
    "\n",
    "# исходные параметры распределений классов\n",
    "r1 = 0.3\n",
    "D1 = 3.0\n",
    "mean1 = [2, -2]\n",
    "V1 = [[D1, D1 * r1], [D1 * r1, D1]]\n",
    "\n",
    "r2 = 0.5\n",
    "D2 = 5.0\n",
    "mean2 = [-3, -1]\n",
    "V2 = [[D2, D2 * r2], [D2 * r2, D2]]\n",
    "\n",
    "# моделирование обучающей выборки\n",
    "N = 1000\n",
    "x1 = np.random.multivariate_normal(mean1, V1, N).T\n",
    "x2 = np.random.multivariate_normal(mean2, V2, N).T\n",
    "\n",
    "data_x = np.hstack([x1, x2]).T\n",
    "data_y = np.hstack([np.ones(N) * -1, np.ones(N)])\n",
    "\n",
    "x_train, x_test, y_train, y_test = train_test_split(data_x, data_y, random_state=123,test_size=0.4, shuffle=True)\n",
    "\n",
    "clf = svm.SVC(kernel='linear') # support vectors machine -> support vecrots classifier\n",
    "clf.fit(x_train, y_train)\n",
    "predict = clf.predict(x_test)\n",
    "\n",
    "w = np.hstack([clf.intercept_[0], clf.coef_[0]])\n",
    "acc = np.mean(predict == y_test) # accuracy\n",
    "\n",
    "print(w)\n",
    "print(acc)"
   ]
  },
  {
   "cell_type": "markdown",
   "id": "b4824c25",
   "metadata": {},
   "source": [
    "# Task 2"
   ]
  },
  {
   "cell_type": "markdown",
   "id": "f149f428",
   "metadata": {},
   "source": [
    "https://stepik.org/lesson/1370105/step/7?unit=1386295"
   ]
  },
  {
   "cell_type": "code",
   "execution_count": 20,
   "id": "97e82b3d",
   "metadata": {},
   "outputs": [
    {
     "name": "stdout",
     "output_type": "stream",
     "text": [
      "0.955\n",
      "[-0.29321218 -0.28605492  1.14218196]\n"
     ]
    }
   ],
   "source": [
    "import numpy as np\n",
    "from sklearn.model_selection import train_test_split\n",
    "\n",
    "\n",
    "def loss(w, x, y):\n",
    "    # здесь реализация экспоненциальной функции потерь\n",
    "    margin = np.dot(w, x) * y\n",
    "    return np.exp(-margin)\n",
    "\n",
    "\n",
    "def df(w, x, y):\n",
    "    # здесь реализация производной функции потерь по вектору w\n",
    "    return - loss(w, x, y) * x.T * y\n",
    "\n",
    "\n",
    "np.random.seed(0)\n",
    "\n",
    "# исходные параметры распределений двух классов\n",
    "r1 = 0.4\n",
    "D1 = 2.0\n",
    "mean1 = [1, -2]\n",
    "V1 = [[D1, D1 * r1], [D1 * r1, D1]]\n",
    "\n",
    "r2 = 0.5\n",
    "D2 = 3.0\n",
    "mean2 = [2, 3]\n",
    "V2 = [[D2, D2 * r2], [D2 * r2, D2]]\n",
    "\n",
    "# моделирование обучающей выборки\n",
    "N = 1000\n",
    "x1 = np.random.multivariate_normal(mean1, V1, N).T\n",
    "x2 = np.random.multivariate_normal(mean2, V2, N).T\n",
    "\n",
    "data_x = np.array([[1, x[0], x[1]] for x in np.hstack([x1, x2]).T])\n",
    "data_y = np.hstack([np.ones(N) * -1, np.ones(N)])\n",
    "\n",
    "x_train, x_test, y_train, y_test = train_test_split(data_x, data_y, random_state=123,test_size=0.3, shuffle=True)\n",
    "\n",
    "n_train = len(x_train)  # размер обучающей выборки\n",
    "w = [0.0, 0.0, 0.0]  # начальные весовые коэффициенты\n",
    "nt = np.array([0.5, 0.01, 0.01])  # шаг обучения для каждого параметра w0, w1, w2\n",
    "N = 500  # число итераций алгоритма SGD\n",
    "batch_size = 10 # размер мини-батча (величина K = 10)\n",
    "\n",
    "for _ in range(N):\n",
    "    k = np.random.randint(0, n_train-batch_size-1)\n",
    "    Qk = 0\n",
    "    diff_Qk = []\n",
    "    for i in range(k, k + batch_size):\n",
    "        Qk += loss(w, x_train[i], y_train[i])\n",
    "        diff_Qk.append(df(w, x_train[i], y_train[i]))\n",
    "\n",
    "    Qk /= batch_size\n",
    "    diff_Qk = np.mean(diff_Qk, axis=0) # axis = 0 - mean of string \n",
    "    '''\n",
    "    diff_Qk = \n",
    "    [[1, 1, 1]\n",
    "    [2, 2, 3]]...\n",
    "    by strs mean is [1.5, 1.5, 2]\n",
    "    '''\n",
    "    w -= nt * diff_Qk\n",
    "\n",
    "mrgns = sorted([np.dot(x, w) * y for x, y in zip(x_test, y_test)])\n",
    "mrgs = np.array(mrgns)\n",
    "\n",
    "predict = [np.sign(np.dot(x, w)) for x in x_test]\n",
    "acc = np.mean([y_test == predict])\n",
    "\n",
    "print(acc)\n",
    "print(w)\n",
    "# print(mrgs)"
   ]
  },
  {
   "cell_type": "code",
   "execution_count": null,
   "id": "f622eeeb",
   "metadata": {},
   "outputs": [],
   "source": []
  }
 ],
 "metadata": {
  "kernelspec": {
   "display_name": "base",
   "language": "python",
   "name": "python3"
  },
  "language_info": {
   "codemirror_mode": {
    "name": "ipython",
    "version": 3
   },
   "file_extension": ".py",
   "mimetype": "text/x-python",
   "name": "python",
   "nbconvert_exporter": "python",
   "pygments_lexer": "ipython3",
   "version": "3.12.4"
  }
 },
 "nbformat": 4,
 "nbformat_minor": 5
}
