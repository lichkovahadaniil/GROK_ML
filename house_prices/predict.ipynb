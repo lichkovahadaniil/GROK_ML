{
 "cells": [
  {
   "cell_type": "markdown",
   "id": "ec6e0c23",
   "metadata": {},
   "source": [
    "# House Prices with polynomial regression, reularization L2"
   ]
  },
  {
   "cell_type": "code",
   "execution_count": 16,
   "id": "99558598",
   "metadata": {},
   "outputs": [],
   "source": [
    "import matplotlib.pyplot as plt\n",
    "import numpy as np\n",
    "import pandas as pd\n",
    "import random\n",
    "random.seed(0)\n",
    "from sklearn.linear_model import Ridge\n",
    "from sklearn.model_selection import train_test_split\n",
    "from sklearn.preprocessing import PolynomialFeatures\n",
    "from sklearn.metrics import mean_squared_error"
   ]
  },
  {
   "cell_type": "code",
   "execution_count": 18,
   "id": "21213c4b",
   "metadata": {},
   "outputs": [],
   "source": [
    "df = pd.read_csv('data/train.csv')\n",
    "\n",
    "x_pred = pd.read_csv('data/test.csv')\n",
    "x_train, x_test, y_train, y_test = train_test_split(df.drop('SalePrice', axis=1), df['SalePrice'], test_size=0.2, random_state=52)"
   ]
  },
  {
   "cell_type": "markdown",
   "id": "63a3b133",
   "metadata": {},
   "source": [
    "## Polynomial regression function"
   ]
  },
  {
   "cell_type": "code",
   "execution_count": 20,
   "id": "7a2e2ef3",
   "metadata": {},
   "outputs": [],
   "source": [
    "def train(x_tr, y_tr, x_ts, y_ts, degree, alpha):\n",
    "\n",
    "    # convert datasets into np.arrays\n",
    "    x_train = np.array(x_tr).reshape(-1, x_tr.shape[1]) # last arg is number of columns\n",
    "    y_train = np.array(y_tr)\n",
    "    x_test = np.array(x_ts).reshape(-1, x_ts.shape[1])\n",
    "    y_test = np.array(y_ts)\n",
    "\n",
    "    # create polynomial features\n",
    "    poly = PolynomialFeatures(degree=degree)\n",
    "    x_train_poly = poly.fit_transform(x_train)\n",
    "    x_test_poly = poly.transform(x_test)\n",
    "\n",
    "    model = Ridge(alpha=alpha, max_iter=10_000)\n",
    "    model.fit(x_train_poly, y_train)\n",
    "    \n",
    "    y_pred_test = model.pred(x_test_poly)\n",
    "\n",
    "    rmse = np.sqrt(mean_squared_error(y_test, y_pred_test))\n",
    "\n",
    "    return rmse"
   ]
  },
  {
   "cell_type": "markdown",
   "id": "d8c7bc92",
   "metadata": {},
   "source": [
    "## Let's predict"
   ]
  },
  {
   "cell_type": "code",
   "execution_count": null,
   "id": "16c135de",
   "metadata": {},
   "outputs": [],
   "source": [
    "train(x_train, y_train, x_test, y_test, 100, 0.05)"
   ]
  }
 ],
 "metadata": {
  "kernelspec": {
   "display_name": "base",
   "language": "python",
   "name": "python3"
  },
  "language_info": {
   "codemirror_mode": {
    "name": "ipython",
    "version": 3
   },
   "file_extension": ".py",
   "mimetype": "text/x-python",
   "name": "python",
   "nbconvert_exporter": "python",
   "pygments_lexer": "ipython3",
   "version": "3.12.4"
  }
 },
 "nbformat": 4,
 "nbformat_minor": 5
}
