{
 "cells": [
  {
   "cell_type": "markdown",
   "id": "09164076",
   "metadata": {},
   "source": [
    "# An algorithm with only one weight offset\n",
    "\n",
    "second is fixed\n",
    "\n",
    "third is not exists in this task, because it's more simple for education example"
   ]
  },
  {
   "cell_type": "code",
   "execution_count": 12,
   "id": "d0c06b95",
   "metadata": {},
   "outputs": [
    {
     "name": "stdout",
     "output_type": "stream",
     "text": [
      "[1.6000000000000003, -1]\n"
     ]
    },
    {
     "data": {
      "text/plain": [
       "<Axes: >"
      ]
     },
     "execution_count": 12,
     "metadata": {},
     "output_type": "execute_result"
    },
    {
     "data": {
      "image/png": "[encoded data removed]",
      "text/plain": [
       "<Figure size 800x500 with 1 Axes>"
      ]
     },
     "metadata": {},
     "output_type": "display_data"
    }
   ],
   "source": [
    "import numpy as np\n",
    "import matplotlib.pyplot as plt\n",
    "import seaborn as sns\n",
    "\n",
    "x_train = np.array([[10, 50], [20, 30], [25, 30], [20, 60], [15, 70], [40, 40], [30, 45], [20, 45], [40, 30], [7, 35]])\n",
    "y_train = np.array([-1, 1, 1, -1, -1, 1, 1, -1, 1, -1]) # {-1, +1}\n",
    "\n",
    "w = [0, -1]\n",
    "a = lambda x: np.sign(x[0] * w[0] + x[1] * w[1]) # @ it's x[0] * w[0] + x[1] * w[1], it's the scalar product\n",
    "N = 50 # max number of iteration (learning)\n",
    "L = 0.1 # value for weight changing\n",
    "# to shift from the last value\n",
    "last_index = -1 \n",
    "e = 0.1 # a little addition for the little distance between last (border) object\n",
    "\n",
    "for n in range(N):\n",
    "    q_count = 0\n",
    "    for i in range(len(x_train)):\n",
    "        x_i = x_train[i]\n",
    "        y_i = y_train[i]\n",
    "        if a(x_i) * y_i < 0:\n",
    "            last_index = i\n",
    "            q_count += 1\n",
    "            w[0] = w[0] + L * y_i\n",
    "    if q_count == 0:\n",
    "        break\n",
    "\n",
    "if last_index != -1:\n",
    "    w[0] += e * y_train[last_index]\n",
    "print(w)\n",
    "\n",
    "# in this case w2 is fixed, = -1, -> w1 * x1 + w2 * x2 = 0 -> x2 = -w1*x1/w2 = w1*x1\n",
    "# x1 - first coordinate, x2 - second (y)\n",
    "\n",
    "X = list(range(max(x_train[:, 0]))) # max from the 0-index value in the x_train\n",
    "Y = [w[0] * x for x in X]\n",
    "\n",
    "x_c1 = x_train[y_train == 1]\n",
    "x_c2 = x_train[y_train == -1]\n",
    "\n",
    "plt.figure(figsize=(8, 5))\n",
    "sns.lineplot(x=X, y=Y, c='black')\n",
    "plt.grid(True, alpha=0.5)\n",
    "sns.scatterplot(x=x_c1[:, 0], y=x_c1[:, 1], c='red')\n",
    "sns.scatterplot(x=x_c2[:, 0], y=x_c2[:, 1], c='blue')\n"
   ]
  },
  {
   "cell_type": "code",
   "execution_count": 13,
   "id": "6de3c1ee",
   "metadata": {},
   "outputs": [
    {
     "name": "stdout",
     "output_type": "stream",
     "text": [
      "[16.42857142857143, 2.7142857142857144, 11.0, 8.571428571428573]\n"
     ]
    }
   ],
   "source": [
    "import numpy as np\n",
    "\n",
    "w = np.array([15/7, -9/7, -1])\n",
    "x_test = np.array([[1, -8, -4], [1, -2, 2], [1, 4, 8], [1, 6, 3]]) # задайте самостоятельно (признаки образов: x0, x1, x2)\n",
    "y_test = np.array([1, 1, -1, -1]) # задайте самостоятельно (метки класса)\n",
    "\n",
    "# здесь продолжайте программу\n",
    "a = lambda X: w.T @ X\n",
    "margin = [a(x_test[0]) * y_test[0], a(x_test[1]) * y_test[1], a(x_test[2]) * y_test[2], a(x_test[3]) * y_test[3]]\n",
    "print(margin)"
   ]
  },
  {
   "cell_type": "markdown",
   "id": "2e523f66",
   "metadata": {},
   "source": [
    "<img src=\".././photo/condition1.png\" alt=\"photo\" width=\"700\" height=\"500\">"
   ]
  },
  {
   "cell_type": "code",
   "execution_count": 14,
   "id": "c597d11f",
   "metadata": {},
   "outputs": [
    {
     "name": "stdout",
     "output_type": "stream",
     "text": [
      "[2.4444444444444446, 6.0, -1.1111111111111107, 6.111111111111111, -2.0, 3.7777777777777777]\n"
     ]
    }
   ],
   "source": [
    "import numpy as np\n",
    "\n",
    "w = np.array([-16/9, -4/9, 1]) # задайте самостоятельно (параметры модели: w0, w1, w2 - ориентация разделяющей линии)\n",
    "x_test = np.array([[1, -5, 2], [1, -4, 6], [1, 3, 2], [1, 3, -3], [1, 5, 6], [1, 9, 2]]) # задайте самостоятельно (признаки образов: x0, x1, x2)\n",
    "y_test = np.array([1, 1, 1, -1, -1, -1]) # задайте самостоятельно (метки класса)\n",
    "a = lambda x: x[0] * w[0] + x[1] * w[1] + x[2] * w[2]\n",
    "\n",
    "# M_i = a(x_i) * y_i\n",
    "margin = [a(x_test[0]) * y_test[0], a(x_test[1]) * y_test[1], a(x_test[2]) * y_test[2], a(x_test[3]) * y_test[3], a(x_test[4]) * y_test[4], a(x_test[5]) * y_test[5]]\n",
    "print(margin)"
   ]
  },
  {
   "cell_type": "markdown",
   "id": "16780897",
   "metadata": {},
   "source": [
    "<img src=\".././photo/condition2.png\" alt=\"photo\" width=\"900\" height=\"500\">"
   ]
  },
  {
   "cell_type": "code",
   "execution_count": 15,
   "id": "c1d9e302",
   "metadata": {},
   "outputs": [
    {
     "name": "stdout",
     "output_type": "stream",
     "text": [
      "2\n"
     ]
    }
   ],
   "source": [
    "import numpy as np\n",
    "\n",
    "x_test = np.array([(-5, 2), (-4, 6), (3, 2), (3, -3), (5, 5), (5, 2), (-1, 3)])\n",
    "y_test = np.array([1, 1, 1, -1, -1, -1, -1])\n",
    "w = np.array([-8/3, -2/3, 1])\n",
    "\n",
    "Q = 0\n",
    "X = np.array([[1, x[0], x[1]] for x in x_test])\n",
    "for i in range(len(x_test)):\n",
    "    M = y_test[i] * (w @ X[i])\n",
    "    if M < 0:\n",
    "        Q += 1\n",
    "print(Q)"
   ]
  },
  {
   "cell_type": "markdown",
   "id": "a6a4bafd",
   "metadata": {},
   "source": [
    "# The other solution of the first task with the loss function"
   ]
  },
  {
   "cell_type": "markdown",
   "id": "0816a8dd",
   "metadata": {},
   "source": [
    "<img src=\".././photo/exp.png\" alt=\"photo\" width=\"700\" height=\"500\">"
   ]
  },
  {
   "cell_type": "code",
   "execution_count": null,
   "id": "2ce274f7",
   "metadata": {},
   "outputs": [
    {
     "name": "stdout",
     "output_type": "stream",
     "text": [
      "[ 0.05793234 -0.0346272   0.1912188 ]\n",
      "(10, 3)\n",
      "(3,)\n",
      "(3, 3)\n",
      "(3,)\n"
     ]
    }
   ],
   "source": [
    "import numpy as np\n",
    "import matplotlib.pyplot as plt\n",
    "import seaborn as sns\n",
    "\n",
    "x_t = [[10, 50], [20, 30], [25, 30], [20, 60], [15, 70], [40, 40], [30, 45], [20, 45], [40, 30], [7, 35]]\n",
    "x_t = [x + [1] for x in x_t]\n",
    "x_train = np.array(x_t)\n",
    "y_train = np.array([-1, 1, 1, -1, -1, 1, 1, -1, 1, -1]) # {-1, +1}\n",
    "\n",
    "sum1 = np.sum([x * y for x, y in zip(x_train, y_train)], axis=0) # axis = 0 for normal matrix sum\n",
    "sum2 = np.sum([np.outer(x, x) for x in x_train], axis=0) # outer, not dot, because we need the column-x multiply string-x --> result is a matrix\n",
    "w = np.dot(sum1, np.linalg.inv(sum2))\n",
    "print(w)\n",
    "\n"
   ]
  },
  {
   "cell_type": "code",
   "execution_count": 21,
   "id": "926a0282",
   "metadata": {},
   "outputs": [
    {
     "data": {
      "text/plain": [
       "<Axes: >"
      ]
     },
     "execution_count": 21,
     "metadata": {},
     "output_type": "execute_result"
    },
    {
     "data": {
      "image/png": "[encoded data removed]",
      "text/plain": [
       "<Figure size 800x500 with 1 Axes>"
      ]
     },
     "metadata": {},
     "output_type": "display_data"
    }
   ],
   "source": [
    "line_x = list(range(max(x_train[:, 0])))\n",
    "line_y = [-w[0]/w[1] * x - w[2]/w[1] for x in line_x]\n",
    "\n",
    "# points for 2 classes\n",
    "x_0 = x_train[y_train == 1]\n",
    "x_1 = x_train[y_train == -1]\n",
    "\n",
    "plt.figure(figsize=(8,5))\n",
    "sns.scatterplot(x=x_0[:, 0], y=x_0[:, 1], color = 'red', alpha=0.7)\n",
    "sns.scatterplot(x=x_1[:, 0], y=x_1[:, 1], c='blue', alpha=0.7)\n",
    "sns.lineplot(x=line_x, y=line_y, c='black')\n"
   ]
  },
  {
   "cell_type": "markdown",
   "id": "a629708d",
   "metadata": {},
   "source": [
    "# Counting of the average emperical risk"
   ]
  },
  {
   "cell_type": "code",
   "execution_count": 32,
   "id": "b521e85b",
   "metadata": {},
   "outputs": [
    {
     "name": "stdout",
     "output_type": "stream",
     "text": [
      "0.17749243683224197\n"
     ]
    }
   ],
   "source": [
    "import numpy as np\n",
    "\n",
    "def func(x):\n",
    "    return 0.1 * x**2 - np.sin(x) + 0.1 * np.cos(x * 5) + 1.\n",
    "\n",
    "coord_x = np.arange(-5.0, 5.0, 0.1) # значения отсчетов по оси абсцисс\n",
    "coord_y = np.array(func(coord_x)) # значения функции по оси ординат\n",
    "\n",
    "sz = len(coord_x) # общее число отсчетов\n",
    "\n",
    "# здесь продолжайте программу\n",
    "w = [1.11, -0.26, 0.061, 0.0226, 0.00178]\n",
    "x_train = np.array([[1, x, x**2, x**3, x**4] for x in coord_x])\n",
    "a = lambda x: np.dot(w, x)\n",
    "\n",
    "Q = 0\n",
    "for i, x in enumerate(x_train):\n",
    "    Q += (a(x) - coord_y[i]) ** 2\n",
    "Q = Q/sz\n",
    "print(Q)"
   ]
  },
  {
   "cell_type": "code",
   "execution_count": 33,
   "id": "0ac51600",
   "metadata": {},
   "outputs": [
    {
     "name": "stdout",
     "output_type": "stream",
     "text": [
      "0.9250026294525024\n"
     ]
    }
   ],
   "source": [
    "import numpy as np\n",
    "\n",
    "def func(x):\n",
    "    return 0.5 * x**2 - 0.1 * 1/np.exp(-x) + 0.5 * np.cos(2*x) - 2.\n",
    "\n",
    "coord_x = np.arange(-5.0, 5.0, 0.1) # значения отсчетов по оси абсцисс\n",
    "coord_y = func(coord_x) # значения функции по оси ординат\n",
    "\n",
    "sz = len(coord_x) # общее число отсчетов\n",
    "\n",
    "w = [-1.59,-0.69,0.278,0.497,-0.106]\n",
    "x_train = np.array([[1, x, x**2, np.cos(2*x), np.sin(2*x)] for x in coord_x])\n",
    "a = lambda x: np.dot(w, x)\n",
    "\n",
    "Q = 0\n",
    "for i, x in enumerate(x_train):\n",
    "    Q += abs(a(x) - coord_y[i])\n",
    "Q /= sz\n",
    "print(Q)"
   ]
  },
  {
   "cell_type": "markdown",
   "id": "c5ec69df",
   "metadata": {},
   "source": [
    "# Binary classification"
   ]
  },
  {
   "cell_type": "code",
   "execution_count": 2,
   "id": "fc2bb04f",
   "metadata": {},
   "outputs": [
    {
     "name": "stdout",
     "output_type": "stream",
     "text": [
      "[ 0.00617453  1.95370269 -3.31307062]\n"
     ]
    }
   ],
   "source": [
    "import numpy as np\n",
    "\n",
    "data_x = [(5.8, 1.2), (5.6, 1.5), (6.5, 1.5), (6.1, 1.3), (6.4, 1.3), (7.7, 2.0), (6.0, 1.8), (5.6, 1.3), (6.0, 1.6), (5.8, 1.9), (5.7, 2.0), (6.3, 1.5), (6.2, 1.8), (7.7, 2.3), (5.8, 1.2), (6.3, 1.8), (6.0, 1.0), (6.2, 1.3), (5.7, 1.3), (6.3, 1.9), (6.7, 2.5), (5.5, 1.2), (4.9, 1.0), (6.1, 1.4), (6.0, 1.6), (7.2, 2.5), (7.3, 1.8), (6.6, 1.4), (5.6, 2.0), (5.5, 1.0), (6.4, 2.2), (5.6, 1.3), (6.6, 1.3), (6.9, 2.1), (6.8, 2.1), (5.7, 1.3), (7.0, 1.4), (6.1, 1.4), (6.1, 1.8), (6.7, 1.7), (6.0, 1.5), (6.5, 1.8), (6.4, 1.5), (6.9, 1.5), (5.6, 1.3), (6.7, 1.4), (5.8, 1.9), (6.3, 1.3), (6.7, 2.1), (6.2, 2.3), (6.3, 2.4), (6.7, 1.8), (6.4, 2.3), (6.2, 1.5), (6.1, 1.4), (7.1, 2.1), (5.7, 1.0), (6.8, 1.4), (6.8, 2.3), (5.1, 1.1), (4.9, 1.7), (5.9, 1.8), (7.4, 1.9), (6.5, 2.0), (6.7, 1.5), (6.5, 2.0), (5.8, 1.0), (6.4, 2.1), (7.6, 2.1), (5.8, 2.4), (7.7, 2.2), (6.3, 1.5), (5.0, 1.0), (6.3, 1.6), (7.7, 2.3), (6.4, 1.9), (6.5, 2.2), (5.7, 1.2), (6.9, 2.3), (5.7, 1.3), (6.1, 1.2), (5.4, 1.5), (5.2, 1.4), (6.7, 2.3), (7.9, 2.0), (5.6, 1.1), (7.2, 1.8), (5.5, 1.3), (7.2, 1.6), (6.3, 2.5), (6.3, 1.8), (6.7, 2.4), (5.0, 1.0), (6.4, 1.8), (6.9, 2.3), (5.5, 1.3), (5.5, 1.1), (5.9, 1.5), (6.0, 1.5), (5.9, 1.8)]\n",
    "data_y = np.array([-1, -1, -1, -1, -1, 1, 1, -1, -1, 1, 1, -1, 1, 1, -1, 1, -1, -1, -1, 1, 1, -1, -1, -1, -1, 1, 1, -1, 1, -1, 1, -1, -1, 1, 1, -1, -1, 1, 1, -1, 1, 1, -1, -1, -1, -1, 1, -1, 1, 1, 1, 1, 1, -1, -1, 1, -1, -1, 1, -1, 1, -1, 1, 1, -1, 1, -1, 1, 1, 1, 1, 1, -1, -1, 1, 1, 1, -1, 1, -1, -1, -1, -1, 1, 1, -1, 1, -1, 1, 1, 1, 1, -1, 1, 1, -1, -1, -1, -1, 1])\n",
    "\n",
    "xt = [[1] + list(x) for x in data_x]\n",
    "x_train = np.array(xt)\n",
    "y_train = np.array(data_y)\n",
    "\n",
    "exp1 = np.sum([np.dot(x ,y) for x, y in zip(x_train, y_train)], axis=0)\n",
    "exp2 = np.linalg.inv(np.sum([np.outer(x, x) for x in x_train], axis=0))\n",
    "\n",
    "w = np.dot(exp1, exp2)\n",
    "print(w)"
   ]
  },
  {
   "cell_type": "code",
   "execution_count": null,
   "id": "654edca2",
   "metadata": {},
   "outputs": [],
   "source": []
  }
 ],
 "metadata": {
  "kernelspec": {
   "display_name": "base",
   "language": "python",
   "name": "python3"
  },
  "language_info": {
   "codemirror_mode": {
    "name": "ipython",
    "version": 3
   },
   "file_extension": ".py",
   "mimetype": "text/x-python",
   "name": "python",
   "nbconvert_exporter": "python",
   "pygments_lexer": "ipython3",
   "version": "3.12.4"
  }
 },
 "nbformat": 4,
 "nbformat_minor": 5
}
