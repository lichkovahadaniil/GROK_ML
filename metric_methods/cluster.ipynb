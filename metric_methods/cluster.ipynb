{
 "cells": [
  {
   "cell_type": "markdown",
   "id": "875cdd03",
   "metadata": {},
   "source": [
    "# Clusterization"
   ]
  },
  {
   "cell_type": "code",
   "execution_count": 1,
   "id": "d29ca41e",
   "metadata": {},
   "outputs": [],
   "source": [
    "import numpy as np\n",
    "from sklearn.cluster import AgglomerativeClustering\n",
    "\n",
    "X = [(189, 185), (172, 205), (156, 221), (154, 245), (164, 265), (183, 275), (204, 276), (227, 271), (241, 255), (250, 229), (240, 197), (217, 183), (194, 202), (179, 224), (179, 248), (199, 249), (197, 227), (211, 214), (211, 242), (210, 265), (226, 237), (218, 196), (79, 106), (97, 132), (117, 159), (138, 174), (148, 163), (140, 145), (121, 123), (112, 108), (89, 92), (282, 162), (298, 180), (344, 154), (344, 113), (362, 67), (397, 77), (412, 121), (379, 112), (377, 148), (312, 130)]\n",
    "\n",
    "X = np.array(X)\n",
    "\n",
    "K = 3\n",
    "clustering = AgglomerativeClustering(n_clusters=K, linkage='ward', metric='euclidean')\n",
    "res = clustering.fit_predict(X)\n",
    "\n",
    "X1 = []\n",
    "X2 = []\n",
    "X3 = []\n",
    "for i in range(len(X)):\n",
    "    if res[i] == 0:\n",
    "        X1.append(X[i])\n",
    "    elif res[i] == 1:\n",
    "        X2.append(X[i])\n",
    "    elif res[i] == 2:\n",
    "        X3.append(X[i])"
   ]
  },
  {
   "cell_type": "markdown",
   "id": "693e20d4",
   "metadata": {},
   "source": []
  },
  {
   "cell_type": "markdown",
   "id": "d8e6ceb5",
   "metadata": {},
   "source": [
    "# Grad repeat"
   ]
  },
  {
   "cell_type": "code",
   "execution_count": null,
   "id": "46d9e1e6",
   "metadata": {},
   "outputs": [
    {
     "name": "stdout",
     "output_type": "stream",
     "text": [
      "-1.0758987284245605\n"
     ]
    }
   ],
   "source": [
    "import numpy as np\n",
    "\n",
    "\n",
    "def func(x):\n",
    "    return 0.5 * x + 0.2 * x ** 2 - 0.1 * x ** 3\n",
    "\n",
    "\n",
    "def df(x):\n",
    "    return 0.5 + 0.4 * x - 0.3 * x**2\n",
    "\n",
    "N = 200\n",
    "nt = 0.01\n",
    "x = -4\n",
    "\n",
    "for i in range(N):\n",
    "    x -= nt * df(x)\n",
    "\n",
    "\n",
    "print(x)"
   ]
  },
  {
   "cell_type": "code",
   "execution_count": 4,
   "id": "447a8799",
   "metadata": {},
   "outputs": [
    {
     "name": "stdout",
     "output_type": "stream",
     "text": [
      "1.43883862496245\n"
     ]
    }
   ],
   "source": [
    "import numpy as np\n",
    "\n",
    "# исходная функция, которую нужно аппроксимировать моделью a(x)\n",
    "def func(x):\n",
    "    return 0.5 * x**2 - 0.1 * 1/np.exp(-x) + 0.5 * np.cos(2*x) - 2.\n",
    "\n",
    "\n",
    "def loss(x, y, w):\n",
    "    return (np.dot(x, w) - y) ** 2\n",
    "\n",
    "def df(x):\n",
    "    return x - 0.1 * np.exp(x) + np.cos(x)\n",
    "\n",
    "\n",
    "coord_x = np.arange(-5.0, 5.0, 0.1) # значения по оси абсцисс [-5; 5] с шагом 0.1\n",
    "coord_y = func(coord_x) # значения функции по оси ординат\n",
    "\n",
    "a = [np.array([x ** 0, x, x ** 2, np.cos(2*x), np.sin(2*x)]) for x in coord_x]\n",
    "\n",
    "sz = len(coord_x)\t# количество значений функций (точек)\n",
    "eta = np.array([0.01, 0.001, 0.0001, 0.01, 0.01]) # шаг обучения для каждого параметра w0, w1, w2, w3, w4\n",
    "w = np.array([0., 0., 0., 0., 0.]) # начальные значения параметров модели\n",
    "N = 500 # число итераций алгоритма SGD\n",
    "lm = 0.02 # значение параметра лямбда для вычисления скользящего экспоненциального среднего\n",
    "\n",
    "Qe = np.mean(loss(a[0], coord_y[0], w))\n",
    "np.random.seed(0) # генерация одинаковых последовательностей псевдослучайных чисел\n",
    "\n",
    "for i in range(N):\n",
    "    k = np.random.randint(0, sz-1)\n",
    "    xk = a[k]\n",
    "    w -= eta * (2 * (np.dot(xk, w) - coord_y[k]) * xk.T)\n",
    "    Qe = lm * loss(xk, coord_y[k], w) + (1 - lm) * Qe\n",
    "\n",
    "Q = np.mean([loss(x, y, w) for x, y in zip(a, coord_y)])\n",
    "print(Q)"
   ]
  },
  {
   "cell_type": "code",
   "execution_count": 1,
   "id": "0d85ed28",
   "metadata": {},
   "outputs": [
    {
     "name": "stdout",
     "output_type": "stream",
     "text": [
      "[1.0, -1.0, -1.0, 1.0, -1.0, 1.0, 1.0]\n"
     ]
    }
   ],
   "source": [
    "import numpy as np\n",
    "\n",
    "x_test = [(9, 6), (2, 4), (-3, -1), (3, -2), (-3, 6), (7, -3), (6, 2)]\n",
    "\n",
    "w = [-14/5, 7/5, -1]\n",
    "\n",
    "a = lambda x: np.sign(np.dot(w, x))\n",
    "predict = []\n",
    "for x in x_test:\n",
    "    xi = np.array([1, x[0], x[1]])\n",
    "    predict.append(a(xi))\n",
    "   \n",
    "print(predict)"
   ]
  }
 ],
 "metadata": {
  "kernelspec": {
   "display_name": "base",
   "language": "python",
   "name": "python3"
  },
  "language_info": {
   "codemirror_mode": {
    "name": "ipython",
    "version": 3
   },
   "file_extension": ".py",
   "mimetype": "text/x-python",
   "name": "python",
   "nbconvert_exporter": "python",
   "pygments_lexer": "ipython3",
   "version": "3.12.4"
  }
 },
 "nbformat": 4,
 "nbformat_minor": 5
}
