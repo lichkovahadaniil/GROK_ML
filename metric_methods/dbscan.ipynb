{
 "cells": [
  {
   "cell_type": "markdown",
   "id": "afc8e2ea",
   "metadata": {},
   "source": [
    "# DBSCAN\n",
    "\n",
    "https://habr.com/ru/articles/322034/\n",
    "\n",
    "with \n",
    "\n",
    "$e = 55, m = 3, ro = sqrt(sum(x[i] - y[i]) ** 2)$"
   ]
  },
  {
   "cell_type": "code",
   "execution_count": 1,
   "id": "9dc6dede",
   "metadata": {},
   "outputs": [],
   "source": [
    "import numpy as np\n",
    "from sklearn.cluster import DBSCAN\n",
    "\n",
    "X = [(166, 88), (147, 119), (133, 147), (113, 175), (91, 92), (120, 126), (146, 151), (172, 174), (94, 192), (187, 193), (328, 82), (299, 97), (277, 131), (280, 171), (299, 198), (348, 194), (378, 153), (372, 95), (222, 169), (332, 141), (69, 256), (110, 258), (139, 257), (179, 256), (210, 256), (248, 256), (295, 256), (322, 254), (350, 252), (377, 251), (400, 247), (403, 260), (378, 278), (341, 273), (306, 274), (277, 275), (245, 274), (222, 275), (193, 276), (170, 276), (147, 279), (120, 274), (91, 275), (65, 279)]\n",
    "X = np.array(X)\n",
    "\n",
    "e, m = 55, 3\n",
    "ro = lambda x1, x2 : np.sqrt([np.sum(x1[i] - x2[i]) ** 2 for i in range(len(x1))]) # the Euclidean metric\n",
    "\n",
    "clustering = DBSCAN(eps=55, min_samples=3, metric='euclidean')\n",
    "res = clustering.fit_predict(X)"
   ]
  },
  {
   "cell_type": "code",
   "execution_count": 2,
   "id": "2c945f8e",
   "metadata": {},
   "outputs": [
    {
     "name": "stdout",
     "output_type": "stream",
     "text": [
      "[0 0 0 0 0 0 0 0 0 0 1 1 1 1 1 1 1 1 0 1 2 2 2 2 2 2 2 2 2 2 2 2 2 2 2 2 2\n",
      " 2 2 2 2 2 2 2]\n"
     ]
    }
   ],
   "source": [
    "print(res)"
   ]
  },
  {
   "cell_type": "markdown",
   "id": "9f5a4b36",
   "metadata": {},
   "source": [
    "Выделите в списки X1, X2, X3 образы кластеров 0, 1, 2 соответственно. А в список Noise - образы с меткой -1."
   ]
  },
  {
   "cell_type": "code",
   "execution_count": 7,
   "id": "5f553088",
   "metadata": {},
   "outputs": [],
   "source": [
    "X1 = []\n",
    "X2 = []\n",
    "X3 = []\n",
    "Noise = []\n",
    "\n",
    "for i in range(len(res)):\n",
    "    if res[i] == -1:\n",
    "        Noise.append(X[i])\n",
    "    elif res[i] == 0:\n",
    "        X1.append(X[i])\n",
    "    elif res[i] == 1:\n",
    "        X2.append(X[i])\n",
    "    elif res[i] == 2:\n",
    "        X3.append(X[i])\n",
    "\n",
    "# for checking\n",
    "X1 = np.array(X1).reshape(-1, 2)\n",
    "X2 = np.array(X2).reshape(-1, 2)\n",
    "X3 = np.array(X3).reshape(-1, 2)\n",
    "Noise = np.array(Noise).reshape(-1, 2)\n"
   ]
  },
  {
   "cell_type": "code",
   "execution_count": 6,
   "id": "c6999c4a",
   "metadata": {},
   "outputs": [
    {
     "name": "stdout",
     "output_type": "stream",
     "text": [
      "[]\n"
     ]
    }
   ],
   "source": [
    "print(Noise)"
   ]
  },
  {
   "cell_type": "markdown",
   "id": "8a68259b",
   "metadata": {},
   "source": [
    "Подберите значения параметров eps и min_samples так, чтобы выборка X не содержала шумовых образов и была разделена на три кластера. Запустите процесс кластеризации с выбранными параметрами и результат сохраните в переменной res."
   ]
  },
  {
   "cell_type": "code",
   "execution_count": 35,
   "id": "73fef0e5",
   "metadata": {},
   "outputs": [
    {
     "name": "stdout",
     "output_type": "stream",
     "text": [
      "{0, 1, 2}\n"
     ]
    }
   ],
   "source": [
    "import numpy as np\n",
    "from sklearn.cluster import DBSCAN\n",
    "\n",
    "X = [(58, 138), (74, 96), (103, 82), (135, 76), (162, 79), (184, 97), (206, 111), (231, 118), (251, 118),  (275, 110), (298, 86), (320, 68), (344, 62), (376, 61), (403, 75), (414, 90), (430, 100), (254, 80), (219, 85), (288, 66), (260, 92), (201, 76), (162, 66), (127, 135), (97, 143), (83, 160), (82, 177), (88, 199), (105, 205), (135, 208), (151, 198), (157, 169), (153, 152), (117, 158), (106, 168), (106, 185), (123, 188), (125, 171), (139, 163), (139, 183), (358, 127), (328, 132), (313, 146), (300, 169), (300, 181), (308, 197), (326, 206), (339, 209), (370, 199), (380, 184), (380, 147), (343, 154), (329, 169), (332, 184), (345, 185), (363, 159), (361, 177), (344, 169), (311, 175), (351, 89), (134, 96)]\n",
    "X = np.array(X)\n",
    "\n",
    "clustering = DBSCAN(eps=34, min_samples=3, metric='euclidean')\n",
    "res = clustering.fit_predict(X)\n",
    "\n",
    "print(set(res))"
   ]
  },
  {
   "cell_type": "code",
   "execution_count": null,
   "id": "919596b2",
   "metadata": {},
   "outputs": [],
   "source": []
  }
 ],
 "metadata": {
  "kernelspec": {
   "display_name": "base",
   "language": "python",
   "name": "python3"
  },
  "language_info": {
   "codemirror_mode": {
    "name": "ipython",
    "version": 3
   },
   "file_extension": ".py",
   "mimetype": "text/x-python",
   "name": "python",
   "nbconvert_exporter": "python",
   "pygments_lexer": "ipython3",
   "version": "3.12.4"
  }
 },
 "nbformat": 4,
 "nbformat_minor": 5
}
