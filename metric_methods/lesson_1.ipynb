{
 "cells": [
  {
   "cell_type": "markdown",
   "id": "460221a5",
   "metadata": {},
   "source": [
    "# <img src=\".././photo/condition25.png\" alt=\"photo\" width=\"900\" height=\"500\">"
   ]
  },
  {
   "cell_type": "code",
   "execution_count": null,
   "id": "b2d8cb12",
   "metadata": {},
   "outputs": [
    {
     "name": "stdout",
     "output_type": "stream",
     "text": [
      "2\n"
     ]
    }
   ],
   "source": [
    "import numpy as np\n",
    "from sklearn.model_selection import train_test_split\n",
    "\n",
    "data_x = [(4.9, 3.3), (5.6, 4.5), (6.4, 4.3), (6.7, 5.7), (6.3, 5.0), (5.2, 3.9), (5.5, 3.7), (5.6, 3.6), (5.5, 3.8), (6.1, 4.7), (7.4, 6.1), (6.0, 5.1), (5.5, 4.4), (5.9, 5.1), (6.5, 5.8), (6.5, 4.6), (6.7, 4.4), (6.3, 5.6), (5.9, 4.8), (6.0, 4.5), (5.6, 4.1), (5.6, 4.9), (4.9, 4.5), (6.2, 4.5), (6.1, 4.7), (6.1, 4.9), (6.2, 5.4), (5.7, 4.2), (6.1, 5.6), (5.8, 4.0), (6.6, 4.6), (5.6, 4.2), (7.2, 6.1), (7.7, 6.7), (5.6, 3.9), (7.7, 6.9), (6.0, 4.0), (6.1, 4.0), (7.6, 6.6), (5.1, 3.0), (6.3, 6.0), (6.7, 5.7), (6.8, 5.9), (6.4, 5.5), (7.0, 4.7), (5.8, 5.1), (5.8, 5.1), (6.4, 5.3), (6.3, 4.9), (6.4, 5.3), (5.7, 3.5), (7.2, 5.8), (6.4, 5.6), (5.7, 4.5), (6.0, 4.5), (7.7, 6.1), (6.2, 4.3), (7.1, 5.9), (7.3, 6.3), (5.0, 3.3), (6.3, 5.1), (5.8, 3.9), (6.4, 4.5), (6.3, 5.6), (6.8, 5.5), (6.9, 5.4), (5.5, 4.0), (5.7, 4.1), (6.5, 5.5), (6.3, 4.7), (5.0, 3.5), (6.7, 5.8), (6.9, 4.9), (7.7, 6.7), (5.8, 4.1), (6.4, 5.6), (6.7, 5.2), (6.7, 4.7), (5.4, 4.5), (6.8, 4.8), (5.7, 4.2), (5.5, 4.0), (6.3, 4.9), (6.5, 5.2), (5.8, 5.1), (6.0, 4.8), (6.2, 4.8), (6.5, 5.1), (7.9, 6.4), (6.7, 5.0), (6.7, 5.6), (6.0, 5.0), (6.1, 4.6), (5.7, 5.0), (7.2, 6.0), (6.3, 4.4), (5.9, 4.2), (6.9, 5.1), (6.6, 4.4), (6.9, 5.7)]\n",
    "data_y = [-1, -1, -1, 1, 1, -1, -1, -1, -1, -1, 1, -1, -1, 1, 1, -1, -1, 1, -1, -1, -1, 1, 1, -1, -1, 1, 1, -1, 1, -1, -1, -1, 1, 1, -1, 1, -1, -1, 1, -1, 1, 1, 1, 1, -1, 1, 1, 1, 1, 1, -1, 1, 1, -1, -1, 1, -1, 1, 1, -1, 1, -1, -1, 1, 1, 1, -1, -1, 1, -1, -1, 1, -1, 1, -1, 1, 1, -1, -1, -1, -1, -1, -1, 1, 1, 1, 1, 1, 1, -1, 1, 1, -1, 1, 1, -1, -1, 1, -1, 1]\n",
    "\n",
    "data_x = np.array(data_x)\n",
    "data_y = np.array(data_y)\n",
    "\n",
    "x_train, x_test, y_train, y_test = train_test_split(data_x, data_y, random_state=123,test_size=0.3, shuffle=True)\n",
    "k = 5\n",
    "\n",
    "predict = []\n",
    "for i in range(len(x_test)):\n",
    "    res = []\n",
    "    for m in range(len(x_train)): # may be binary search for more optimal complexity\n",
    "        res.append([np.sum([np.abs(x_test[i][j] - x_train[m][j]) for j in range(len(data_x[0]))]), y_train[m]])\n",
    "\n",
    "    res = sorted(res, key=lambda x: x[0])[:k] # sorted by metric-value, and take only k-nearest neighbour\n",
    "    values, counts = np.unique([res[i][1] for i in range(k)], return_counts=True) # val=[-1, 1], cnt=[3, 2]\n",
    "    prediction = values[np.argmax(counts)]\n",
    "    predict.append(prediction)\n",
    "\n",
    "Q = np.sum([predict != y_test])\n",
    "print(Q)"
   ]
  },
  {
   "cell_type": "markdown",
   "id": "3565206a",
   "metadata": {},
   "source": [
    "# minuses:\n",
    "- classification is performed without taking into account the distance to neighboring points (as long as they are neighbors)\n",
    "- classification uncertainty with the same number of neighbors of different classes\n",
    "- at k = 1, it is easy to get an incorrect classification due to proximity to an erroneous image (outlier)\n"
   ]
  },
  {
   "cell_type": "markdown",
   "id": "6b747ee2",
   "metadata": {},
   "source": [
    "# 3 classes and the Euclidean metric"
   ]
  },
  {
   "cell_type": "markdown",
   "id": "6781baac",
   "metadata": {},
   "source": [
    "<img src=\".././photo/condition26.png\" alt=\"photo\" width=\"900\" height=\"500\">"
   ]
  },
  {
   "cell_type": "code",
   "execution_count": 11,
   "id": "5a692c6a",
   "metadata": {},
   "outputs": [
    {
     "name": "stdout",
     "output_type": "stream",
     "text": [
      "0.16129032258064516\n"
     ]
    }
   ],
   "source": [
    "import numpy as np\n",
    "from sklearn.model_selection import train_test_split\n",
    "\n",
    "\n",
    "np.random.seed(0)\n",
    "n_feature = 5 # количество признаков\n",
    "\n",
    "# исходные параметры для формирования образов обучающей выборки\n",
    "r1 = 0.7\n",
    "D1 = 3.0\n",
    "mean1 = [3, 7, -2, 4, 6]\n",
    "V1 = [[D1 * r1 ** abs(i-j) for j in range(n_feature)] for i in range(n_feature)]\n",
    "\n",
    "r2 = 0.5\n",
    "D2 = 2.0\n",
    "mean2 = [3, 7, -2, 4, 6] + np.array(range(1, n_feature+1)) * 0.5\n",
    "V2 = [[D2 * r2 ** abs(i-j) for j in range(n_feature)] for i in range(n_feature)]\n",
    "\n",
    "r3 = -0.7\n",
    "D3 = 1.0\n",
    "mean3 = [3, 7, -2, 4, 6] + np.array(range(1, n_feature+1)) * -0.5\n",
    "V3 = [[D3 * r3 ** abs(i-j) for j in range(n_feature)] for i in range(n_feature)]\n",
    "\n",
    "# моделирование обучающей выборки\n",
    "N1, N2, N3 = 100, 120, 90\n",
    "x1 = np.random.multivariate_normal(mean1, V1, N1).T\n",
    "x2 = np.random.multivariate_normal(mean2, V2, N2).T\n",
    "x3 = np.random.multivariate_normal(mean3, V3, N3).T\n",
    "\n",
    "data_x = np.hstack([x1, x2, x3]).T\n",
    "data_y = np.hstack([np.zeros(N1), np.ones(N2), np.ones(N3) * 2])\n",
    "\n",
    "x_train, x_test, y_train, y_test = train_test_split(data_x, data_y, random_state=123,test_size=0.3, shuffle=True)\n",
    "predict = []\n",
    "k = 5\n",
    "\n",
    "for i in range(len(x_test)):\n",
    "    res = []\n",
    "    for m in range(len(x_train)):\n",
    "        res.append([np.sum([(x_test[i][j] - x_train[m][j]) ** 2 for j in range(len(data_x[0]))]), y_train[m]])\n",
    "\n",
    "    res = sorted(res, key=lambda x: x[0])[:k] # sorted by metric-value, and take only k-nearest neighbour\n",
    "    values, counts = np.unique([res[i][1] for i in range(k)], return_counts=True)\n",
    "    prediction = values[np.argmax(counts)]\n",
    "    predict.append(prediction)\n",
    "\n",
    "Q = np.mean([predict != y_test])\n",
    "print(Q)"
   ]
  },
  {
   "cell_type": "code",
   "execution_count": null,
   "id": "270e9243",
   "metadata": {},
   "outputs": [],
   "source": []
  },
  {
   "cell_type": "code",
   "execution_count": null,
   "id": "9e7ede1a",
   "metadata": {},
   "outputs": [],
   "source": []
  }
 ],
 "metadata": {
  "kernelspec": {
   "display_name": "base",
   "language": "python",
   "name": "python3"
  },
  "language_info": {
   "codemirror_mode": {
    "name": "ipython",
    "version": 3
   },
   "file_extension": ".py",
   "mimetype": "text/x-python",
   "name": "python",
   "nbconvert_exporter": "python",
   "pygments_lexer": "ipython3",
   "version": "3.12.4"
  }
 },
 "nbformat": 4,
 "nbformat_minor": 5
}
